{
  "metadata": {
    "kernelspec": {
      "display_name": "Python 3",
      "name": "python3"
    },
    "language_info": {
      "name": "python",
      "version": "3.7.12",
      "mimetype": "text/x-python",
      "codemirror_mode": {
        "name": "ipython",
        "version": 3
      },
      "pygments_lexer": "ipython3",
      "nbconvert_exporter": "python",
      "file_extension": ".py"
    },
    "kaggle": {
      "accelerator": "gpu",
      "dataSources": [
        {
          "sourceId": 3411685,
          "sourceType": "datasetVersion",
          "datasetId": 2056465
        },
        {
          "sourceId": 7421171,
          "sourceType": "datasetVersion",
          "datasetId": 4317698
        }
      ],
      "dockerImageVersionId": 30177,
      "isInternetEnabled": true,
      "language": "python",
      "sourceType": "notebook",
      "isGpuEnabled": true
    },
    "colab": {
      "provenance": [],
      "gpuType": "T4"
    },
    "accelerator": "GPU",
    "widgets": {
      "application/vnd.jupyter.widget-state+json": {
        "e118ce7ac9b64a388db872ab3778f035": {
          "model_module": "@jupyter-widgets/controls",
          "model_name": "HBoxModel",
          "model_module_version": "1.5.0",
          "state": {
            "_dom_classes": [],
            "_model_module": "@jupyter-widgets/controls",
            "_model_module_version": "1.5.0",
            "_model_name": "HBoxModel",
            "_view_count": null,
            "_view_module": "@jupyter-widgets/controls",
            "_view_module_version": "1.5.0",
            "_view_name": "HBoxView",
            "box_style": "",
            "children": [
              "IPY_MODEL_4c0979cc4ae443b28296814cacc7815c",
              "IPY_MODEL_3bf795c0ccdb4ba7b30d7548cb716c46",
              "IPY_MODEL_97127349512a472c8149de35ae7fe9fc"
            ],
            "layout": "IPY_MODEL_cb4900cc4fbc426fb7e1d081da46be59"
          }
        },
        "4c0979cc4ae443b28296814cacc7815c": {
          "model_module": "@jupyter-widgets/controls",
          "model_name": "HTMLModel",
          "model_module_version": "1.5.0",
          "state": {
            "_dom_classes": [],
            "_model_module": "@jupyter-widgets/controls",
            "_model_module_version": "1.5.0",
            "_model_name": "HTMLModel",
            "_view_count": null,
            "_view_module": "@jupyter-widgets/controls",
            "_view_module_version": "1.5.0",
            "_view_name": "HTMLView",
            "description": "",
            "description_tooltip": null,
            "layout": "IPY_MODEL_2bcfd6d7c9cc40a0867802329907db45",
            "placeholder": "​",
            "style": "IPY_MODEL_fe6328c40cd54ad592b2fc3b24077d4a",
            "value": "config.json: 100%"
          }
        },
        "3bf795c0ccdb4ba7b30d7548cb716c46": {
          "model_module": "@jupyter-widgets/controls",
          "model_name": "FloatProgressModel",
          "model_module_version": "1.5.0",
          "state": {
            "_dom_classes": [],
            "_model_module": "@jupyter-widgets/controls",
            "_model_module_version": "1.5.0",
            "_model_name": "FloatProgressModel",
            "_view_count": null,
            "_view_module": "@jupyter-widgets/controls",
            "_view_module_version": "1.5.0",
            "_view_name": "ProgressView",
            "bar_style": "success",
            "description": "",
            "description_tooltip": null,
            "layout": "IPY_MODEL_fb9ce989e79b48fa90c244e61fecfb25",
            "max": 557,
            "min": 0,
            "orientation": "horizontal",
            "style": "IPY_MODEL_02bdf622efaf4cbbaedb5535d0ce7646",
            "value": 557
          }
        },
        "97127349512a472c8149de35ae7fe9fc": {
          "model_module": "@jupyter-widgets/controls",
          "model_name": "HTMLModel",
          "model_module_version": "1.5.0",
          "state": {
            "_dom_classes": [],
            "_model_module": "@jupyter-widgets/controls",
            "_model_module_version": "1.5.0",
            "_model_name": "HTMLModel",
            "_view_count": null,
            "_view_module": "@jupyter-widgets/controls",
            "_view_module_version": "1.5.0",
            "_view_name": "HTMLView",
            "description": "",
            "description_tooltip": null,
            "layout": "IPY_MODEL_51b2593961fb49b2bdccaa04e1259a28",
            "placeholder": "​",
            "style": "IPY_MODEL_c196c88adf984d57a6c0d150f030e5c5",
            "value": " 557/557 [00:00&lt;00:00, 12.5kB/s]"
          }
        },
        "cb4900cc4fbc426fb7e1d081da46be59": {
          "model_module": "@jupyter-widgets/base",
          "model_name": "LayoutModel",
          "model_module_version": "1.2.0",
          "state": {
            "_model_module": "@jupyter-widgets/base",
            "_model_module_version": "1.2.0",
            "_model_name": "LayoutModel",
            "_view_count": null,
            "_view_module": "@jupyter-widgets/base",
            "_view_module_version": "1.2.0",
            "_view_name": "LayoutView",
            "align_content": null,
            "align_items": null,
            "align_self": null,
            "border": null,
            "bottom": null,
            "display": null,
            "flex": null,
            "flex_flow": null,
            "grid_area": null,
            "grid_auto_columns": null,
            "grid_auto_flow": null,
            "grid_auto_rows": null,
            "grid_column": null,
            "grid_gap": null,
            "grid_row": null,
            "grid_template_areas": null,
            "grid_template_columns": null,
            "grid_template_rows": null,
            "height": null,
            "justify_content": null,
            "justify_items": null,
            "left": null,
            "margin": null,
            "max_height": null,
            "max_width": null,
            "min_height": null,
            "min_width": null,
            "object_fit": null,
            "object_position": null,
            "order": null,
            "overflow": null,
            "overflow_x": null,
            "overflow_y": null,
            "padding": null,
            "right": null,
            "top": null,
            "visibility": null,
            "width": null
          }
        },
        "2bcfd6d7c9cc40a0867802329907db45": {
          "model_module": "@jupyter-widgets/base",
          "model_name": "LayoutModel",
          "model_module_version": "1.2.0",
          "state": {
            "_model_module": "@jupyter-widgets/base",
            "_model_module_version": "1.2.0",
            "_model_name": "LayoutModel",
            "_view_count": null,
            "_view_module": "@jupyter-widgets/base",
            "_view_module_version": "1.2.0",
            "_view_name": "LayoutView",
            "align_content": null,
            "align_items": null,
            "align_self": null,
            "border": null,
            "bottom": null,
            "display": null,
            "flex": null,
            "flex_flow": null,
            "grid_area": null,
            "grid_auto_columns": null,
            "grid_auto_flow": null,
            "grid_auto_rows": null,
            "grid_column": null,
            "grid_gap": null,
            "grid_row": null,
            "grid_template_areas": null,
            "grid_template_columns": null,
            "grid_template_rows": null,
            "height": null,
            "justify_content": null,
            "justify_items": null,
            "left": null,
            "margin": null,
            "max_height": null,
            "max_width": null,
            "min_height": null,
            "min_width": null,
            "object_fit": null,
            "object_position": null,
            "order": null,
            "overflow": null,
            "overflow_x": null,
            "overflow_y": null,
            "padding": null,
            "right": null,
            "top": null,
            "visibility": null,
            "width": null
          }
        },
        "fe6328c40cd54ad592b2fc3b24077d4a": {
          "model_module": "@jupyter-widgets/controls",
          "model_name": "DescriptionStyleModel",
          "model_module_version": "1.5.0",
          "state": {
            "_model_module": "@jupyter-widgets/controls",
            "_model_module_version": "1.5.0",
            "_model_name": "DescriptionStyleModel",
            "_view_count": null,
            "_view_module": "@jupyter-widgets/base",
            "_view_module_version": "1.2.0",
            "_view_name": "StyleView",
            "description_width": ""
          }
        },
        "fb9ce989e79b48fa90c244e61fecfb25": {
          "model_module": "@jupyter-widgets/base",
          "model_name": "LayoutModel",
          "model_module_version": "1.2.0",
          "state": {
            "_model_module": "@jupyter-widgets/base",
            "_model_module_version": "1.2.0",
            "_model_name": "LayoutModel",
            "_view_count": null,
            "_view_module": "@jupyter-widgets/base",
            "_view_module_version": "1.2.0",
            "_view_name": "LayoutView",
            "align_content": null,
            "align_items": null,
            "align_self": null,
            "border": null,
            "bottom": null,
            "display": null,
            "flex": null,
            "flex_flow": null,
            "grid_area": null,
            "grid_auto_columns": null,
            "grid_auto_flow": null,
            "grid_auto_rows": null,
            "grid_column": null,
            "grid_gap": null,
            "grid_row": null,
            "grid_template_areas": null,
            "grid_template_columns": null,
            "grid_template_rows": null,
            "height": null,
            "justify_content": null,
            "justify_items": null,
            "left": null,
            "margin": null,
            "max_height": null,
            "max_width": null,
            "min_height": null,
            "min_width": null,
            "object_fit": null,
            "object_position": null,
            "order": null,
            "overflow": null,
            "overflow_x": null,
            "overflow_y": null,
            "padding": null,
            "right": null,
            "top": null,
            "visibility": null,
            "width": null
          }
        },
        "02bdf622efaf4cbbaedb5535d0ce7646": {
          "model_module": "@jupyter-widgets/controls",
          "model_name": "ProgressStyleModel",
          "model_module_version": "1.5.0",
          "state": {
            "_model_module": "@jupyter-widgets/controls",
            "_model_module_version": "1.5.0",
            "_model_name": "ProgressStyleModel",
            "_view_count": null,
            "_view_module": "@jupyter-widgets/base",
            "_view_module_version": "1.2.0",
            "_view_name": "StyleView",
            "bar_color": null,
            "description_width": ""
          }
        },
        "51b2593961fb49b2bdccaa04e1259a28": {
          "model_module": "@jupyter-widgets/base",
          "model_name": "LayoutModel",
          "model_module_version": "1.2.0",
          "state": {
            "_model_module": "@jupyter-widgets/base",
            "_model_module_version": "1.2.0",
            "_model_name": "LayoutModel",
            "_view_count": null,
            "_view_module": "@jupyter-widgets/base",
            "_view_module_version": "1.2.0",
            "_view_name": "LayoutView",
            "align_content": null,
            "align_items": null,
            "align_self": null,
            "border": null,
            "bottom": null,
            "display": null,
            "flex": null,
            "flex_flow": null,
            "grid_area": null,
            "grid_auto_columns": null,
            "grid_auto_flow": null,
            "grid_auto_rows": null,
            "grid_column": null,
            "grid_gap": null,
            "grid_row": null,
            "grid_template_areas": null,
            "grid_template_columns": null,
            "grid_template_rows": null,
            "height": null,
            "justify_content": null,
            "justify_items": null,
            "left": null,
            "margin": null,
            "max_height": null,
            "max_width": null,
            "min_height": null,
            "min_width": null,
            "object_fit": null,
            "object_position": null,
            "order": null,
            "overflow": null,
            "overflow_x": null,
            "overflow_y": null,
            "padding": null,
            "right": null,
            "top": null,
            "visibility": null,
            "width": null
          }
        },
        "c196c88adf984d57a6c0d150f030e5c5": {
          "model_module": "@jupyter-widgets/controls",
          "model_name": "DescriptionStyleModel",
          "model_module_version": "1.5.0",
          "state": {
            "_model_module": "@jupyter-widgets/controls",
            "_model_module_version": "1.5.0",
            "_model_name": "DescriptionStyleModel",
            "_view_count": null,
            "_view_module": "@jupyter-widgets/base",
            "_view_module_version": "1.2.0",
            "_view_name": "StyleView",
            "description_width": ""
          }
        },
        "084040b1e8c34c50b84fba4be78e2a42": {
          "model_module": "@jupyter-widgets/controls",
          "model_name": "HBoxModel",
          "model_module_version": "1.5.0",
          "state": {
            "_dom_classes": [],
            "_model_module": "@jupyter-widgets/controls",
            "_model_module_version": "1.5.0",
            "_model_name": "HBoxModel",
            "_view_count": null,
            "_view_module": "@jupyter-widgets/controls",
            "_view_module_version": "1.5.0",
            "_view_name": "HBoxView",
            "box_style": "",
            "children": [
              "IPY_MODEL_844236935b414b5e89462fdbc8e810d3",
              "IPY_MODEL_0d8927c223be4681a92f107709b0441a",
              "IPY_MODEL_d8aa2aa5fe7443a1b598a6605a7b67af"
            ],
            "layout": "IPY_MODEL_fd7f8cef978e4ac5ae586170de38b1aa"
          }
        },
        "844236935b414b5e89462fdbc8e810d3": {
          "model_module": "@jupyter-widgets/controls",
          "model_name": "HTMLModel",
          "model_module_version": "1.5.0",
          "state": {
            "_dom_classes": [],
            "_model_module": "@jupyter-widgets/controls",
            "_model_module_version": "1.5.0",
            "_model_name": "HTMLModel",
            "_view_count": null,
            "_view_module": "@jupyter-widgets/controls",
            "_view_module_version": "1.5.0",
            "_view_name": "HTMLView",
            "description": "",
            "description_tooltip": null,
            "layout": "IPY_MODEL_6893a30e39a8452dab498fb90b9aac21",
            "placeholder": "​",
            "style": "IPY_MODEL_1f707b44b4c64f08badf5680c1e22379",
            "value": "vocab.txt: 100%"
          }
        },
        "0d8927c223be4681a92f107709b0441a": {
          "model_module": "@jupyter-widgets/controls",
          "model_name": "FloatProgressModel",
          "model_module_version": "1.5.0",
          "state": {
            "_dom_classes": [],
            "_model_module": "@jupyter-widgets/controls",
            "_model_module_version": "1.5.0",
            "_model_name": "FloatProgressModel",
            "_view_count": null,
            "_view_module": "@jupyter-widgets/controls",
            "_view_module_version": "1.5.0",
            "_view_name": "ProgressView",
            "bar_style": "success",
            "description": "",
            "description_tooltip": null,
            "layout": "IPY_MODEL_54f74257bade40bbbe6dd3cddc320aaf",
            "max": 895321,
            "min": 0,
            "orientation": "horizontal",
            "style": "IPY_MODEL_d8bc84e91759478c968b09a27c558595",
            "value": 895321
          }
        },
        "d8aa2aa5fe7443a1b598a6605a7b67af": {
          "model_module": "@jupyter-widgets/controls",
          "model_name": "HTMLModel",
          "model_module_version": "1.5.0",
          "state": {
            "_dom_classes": [],
            "_model_module": "@jupyter-widgets/controls",
            "_model_module_version": "1.5.0",
            "_model_name": "HTMLModel",
            "_view_count": null,
            "_view_module": "@jupyter-widgets/controls",
            "_view_module_version": "1.5.0",
            "_view_name": "HTMLView",
            "description": "",
            "description_tooltip": null,
            "layout": "IPY_MODEL_bf600b00e844477ba6973bbf246f3713",
            "placeholder": "​",
            "style": "IPY_MODEL_e0e064e713244454bc2363df9c25deeb",
            "value": " 895k/895k [00:00&lt;00:00, 3.51MB/s]"
          }
        },
        "fd7f8cef978e4ac5ae586170de38b1aa": {
          "model_module": "@jupyter-widgets/base",
          "model_name": "LayoutModel",
          "model_module_version": "1.2.0",
          "state": {
            "_model_module": "@jupyter-widgets/base",
            "_model_module_version": "1.2.0",
            "_model_name": "LayoutModel",
            "_view_count": null,
            "_view_module": "@jupyter-widgets/base",
            "_view_module_version": "1.2.0",
            "_view_name": "LayoutView",
            "align_content": null,
            "align_items": null,
            "align_self": null,
            "border": null,
            "bottom": null,
            "display": null,
            "flex": null,
            "flex_flow": null,
            "grid_area": null,
            "grid_auto_columns": null,
            "grid_auto_flow": null,
            "grid_auto_rows": null,
            "grid_column": null,
            "grid_gap": null,
            "grid_row": null,
            "grid_template_areas": null,
            "grid_template_columns": null,
            "grid_template_rows": null,
            "height": null,
            "justify_content": null,
            "justify_items": null,
            "left": null,
            "margin": null,
            "max_height": null,
            "max_width": null,
            "min_height": null,
            "min_width": null,
            "object_fit": null,
            "object_position": null,
            "order": null,
            "overflow": null,
            "overflow_x": null,
            "overflow_y": null,
            "padding": null,
            "right": null,
            "top": null,
            "visibility": null,
            "width": null
          }
        },
        "6893a30e39a8452dab498fb90b9aac21": {
          "model_module": "@jupyter-widgets/base",
          "model_name": "LayoutModel",
          "model_module_version": "1.2.0",
          "state": {
            "_model_module": "@jupyter-widgets/base",
            "_model_module_version": "1.2.0",
            "_model_name": "LayoutModel",
            "_view_count": null,
            "_view_module": "@jupyter-widgets/base",
            "_view_module_version": "1.2.0",
            "_view_name": "LayoutView",
            "align_content": null,
            "align_items": null,
            "align_self": null,
            "border": null,
            "bottom": null,
            "display": null,
            "flex": null,
            "flex_flow": null,
            "grid_area": null,
            "grid_auto_columns": null,
            "grid_auto_flow": null,
            "grid_auto_rows": null,
            "grid_column": null,
            "grid_gap": null,
            "grid_row": null,
            "grid_template_areas": null,
            "grid_template_columns": null,
            "grid_template_rows": null,
            "height": null,
            "justify_content": null,
            "justify_items": null,
            "left": null,
            "margin": null,
            "max_height": null,
            "max_width": null,
            "min_height": null,
            "min_width": null,
            "object_fit": null,
            "object_position": null,
            "order": null,
            "overflow": null,
            "overflow_x": null,
            "overflow_y": null,
            "padding": null,
            "right": null,
            "top": null,
            "visibility": null,
            "width": null
          }
        },
        "1f707b44b4c64f08badf5680c1e22379": {
          "model_module": "@jupyter-widgets/controls",
          "model_name": "DescriptionStyleModel",
          "model_module_version": "1.5.0",
          "state": {
            "_model_module": "@jupyter-widgets/controls",
            "_model_module_version": "1.5.0",
            "_model_name": "DescriptionStyleModel",
            "_view_count": null,
            "_view_module": "@jupyter-widgets/base",
            "_view_module_version": "1.2.0",
            "_view_name": "StyleView",
            "description_width": ""
          }
        },
        "54f74257bade40bbbe6dd3cddc320aaf": {
          "model_module": "@jupyter-widgets/base",
          "model_name": "LayoutModel",
          "model_module_version": "1.2.0",
          "state": {
            "_model_module": "@jupyter-widgets/base",
            "_model_module_version": "1.2.0",
            "_model_name": "LayoutModel",
            "_view_count": null,
            "_view_module": "@jupyter-widgets/base",
            "_view_module_version": "1.2.0",
            "_view_name": "LayoutView",
            "align_content": null,
            "align_items": null,
            "align_self": null,
            "border": null,
            "bottom": null,
            "display": null,
            "flex": null,
            "flex_flow": null,
            "grid_area": null,
            "grid_auto_columns": null,
            "grid_auto_flow": null,
            "grid_auto_rows": null,
            "grid_column": null,
            "grid_gap": null,
            "grid_row": null,
            "grid_template_areas": null,
            "grid_template_columns": null,
            "grid_template_rows": null,
            "height": null,
            "justify_content": null,
            "justify_items": null,
            "left": null,
            "margin": null,
            "max_height": null,
            "max_width": null,
            "min_height": null,
            "min_width": null,
            "object_fit": null,
            "object_position": null,
            "order": null,
            "overflow": null,
            "overflow_x": null,
            "overflow_y": null,
            "padding": null,
            "right": null,
            "top": null,
            "visibility": null,
            "width": null
          }
        },
        "d8bc84e91759478c968b09a27c558595": {
          "model_module": "@jupyter-widgets/controls",
          "model_name": "ProgressStyleModel",
          "model_module_version": "1.5.0",
          "state": {
            "_model_module": "@jupyter-widgets/controls",
            "_model_module_version": "1.5.0",
            "_model_name": "ProgressStyleModel",
            "_view_count": null,
            "_view_module": "@jupyter-widgets/base",
            "_view_module_version": "1.2.0",
            "_view_name": "StyleView",
            "bar_color": null,
            "description_width": ""
          }
        },
        "bf600b00e844477ba6973bbf246f3713": {
          "model_module": "@jupyter-widgets/base",
          "model_name": "LayoutModel",
          "model_module_version": "1.2.0",
          "state": {
            "_model_module": "@jupyter-widgets/base",
            "_model_module_version": "1.2.0",
            "_model_name": "LayoutModel",
            "_view_count": null,
            "_view_module": "@jupyter-widgets/base",
            "_view_module_version": "1.2.0",
            "_view_name": "LayoutView",
            "align_content": null,
            "align_items": null,
            "align_self": null,
            "border": null,
            "bottom": null,
            "display": null,
            "flex": null,
            "flex_flow": null,
            "grid_area": null,
            "grid_auto_columns": null,
            "grid_auto_flow": null,
            "grid_auto_rows": null,
            "grid_column": null,
            "grid_gap": null,
            "grid_row": null,
            "grid_template_areas": null,
            "grid_template_columns": null,
            "grid_template_rows": null,
            "height": null,
            "justify_content": null,
            "justify_items": null,
            "left": null,
            "margin": null,
            "max_height": null,
            "max_width": null,
            "min_height": null,
            "min_width": null,
            "object_fit": null,
            "object_position": null,
            "order": null,
            "overflow": null,
            "overflow_x": null,
            "overflow_y": null,
            "padding": null,
            "right": null,
            "top": null,
            "visibility": null,
            "width": null
          }
        },
        "e0e064e713244454bc2363df9c25deeb": {
          "model_module": "@jupyter-widgets/controls",
          "model_name": "DescriptionStyleModel",
          "model_module_version": "1.5.0",
          "state": {
            "_model_module": "@jupyter-widgets/controls",
            "_model_module_version": "1.5.0",
            "_model_name": "DescriptionStyleModel",
            "_view_count": null,
            "_view_module": "@jupyter-widgets/base",
            "_view_module_version": "1.2.0",
            "_view_name": "StyleView",
            "description_width": ""
          }
        },
        "6a759608c013443d871fbd9cc990485b": {
          "model_module": "@jupyter-widgets/controls",
          "model_name": "HBoxModel",
          "model_module_version": "1.5.0",
          "state": {
            "_dom_classes": [],
            "_model_module": "@jupyter-widgets/controls",
            "_model_module_version": "1.5.0",
            "_model_name": "HBoxModel",
            "_view_count": null,
            "_view_module": "@jupyter-widgets/controls",
            "_view_module_version": "1.5.0",
            "_view_name": "HBoxView",
            "box_style": "",
            "children": [
              "IPY_MODEL_f7846bd725814dbe89cec22f8b7399f9",
              "IPY_MODEL_6f73f9ac660b46d9aa671e69859fc5bc",
              "IPY_MODEL_a8f9ad92a8b64fa4976aab3ee0bb7584"
            ],
            "layout": "IPY_MODEL_667e917ef9704512883d434878f84efc"
          }
        },
        "f7846bd725814dbe89cec22f8b7399f9": {
          "model_module": "@jupyter-widgets/controls",
          "model_name": "HTMLModel",
          "model_module_version": "1.5.0",
          "state": {
            "_dom_classes": [],
            "_model_module": "@jupyter-widgets/controls",
            "_model_module_version": "1.5.0",
            "_model_name": "HTMLModel",
            "_view_count": null,
            "_view_module": "@jupyter-widgets/controls",
            "_view_module_version": "1.5.0",
            "_view_name": "HTMLView",
            "description": "",
            "description_tooltip": null,
            "layout": "IPY_MODEL_25dbe90182e84345a1a04c9caa2f291e",
            "placeholder": "​",
            "style": "IPY_MODEL_8c89df53ca58432eab3ab8ccbd9043e9",
            "value": "bpe.codes: 100%"
          }
        },
        "6f73f9ac660b46d9aa671e69859fc5bc": {
          "model_module": "@jupyter-widgets/controls",
          "model_name": "FloatProgressModel",
          "model_module_version": "1.5.0",
          "state": {
            "_dom_classes": [],
            "_model_module": "@jupyter-widgets/controls",
            "_model_module_version": "1.5.0",
            "_model_name": "FloatProgressModel",
            "_view_count": null,
            "_view_module": "@jupyter-widgets/controls",
            "_view_module_version": "1.5.0",
            "_view_name": "ProgressView",
            "bar_style": "success",
            "description": "",
            "description_tooltip": null,
            "layout": "IPY_MODEL_fb1adbb5a23948aca21c70be072b0f24",
            "max": 1135173,
            "min": 0,
            "orientation": "horizontal",
            "style": "IPY_MODEL_0d758b82853c4fa780f3f6a1da5f712c",
            "value": 1135173
          }
        },
        "a8f9ad92a8b64fa4976aab3ee0bb7584": {
          "model_module": "@jupyter-widgets/controls",
          "model_name": "HTMLModel",
          "model_module_version": "1.5.0",
          "state": {
            "_dom_classes": [],
            "_model_module": "@jupyter-widgets/controls",
            "_model_module_version": "1.5.0",
            "_model_name": "HTMLModel",
            "_view_count": null,
            "_view_module": "@jupyter-widgets/controls",
            "_view_module_version": "1.5.0",
            "_view_name": "HTMLView",
            "description": "",
            "description_tooltip": null,
            "layout": "IPY_MODEL_3bed00da246843b3bce0da6a46c6c366",
            "placeholder": "​",
            "style": "IPY_MODEL_c1160982b7944fa5a3f6ec1d109e19ee",
            "value": " 1.14M/1.14M [00:00&lt;00:00, 12.8MB/s]"
          }
        },
        "667e917ef9704512883d434878f84efc": {
          "model_module": "@jupyter-widgets/base",
          "model_name": "LayoutModel",
          "model_module_version": "1.2.0",
          "state": {
            "_model_module": "@jupyter-widgets/base",
            "_model_module_version": "1.2.0",
            "_model_name": "LayoutModel",
            "_view_count": null,
            "_view_module": "@jupyter-widgets/base",
            "_view_module_version": "1.2.0",
            "_view_name": "LayoutView",
            "align_content": null,
            "align_items": null,
            "align_self": null,
            "border": null,
            "bottom": null,
            "display": null,
            "flex": null,
            "flex_flow": null,
            "grid_area": null,
            "grid_auto_columns": null,
            "grid_auto_flow": null,
            "grid_auto_rows": null,
            "grid_column": null,
            "grid_gap": null,
            "grid_row": null,
            "grid_template_areas": null,
            "grid_template_columns": null,
            "grid_template_rows": null,
            "height": null,
            "justify_content": null,
            "justify_items": null,
            "left": null,
            "margin": null,
            "max_height": null,
            "max_width": null,
            "min_height": null,
            "min_width": null,
            "object_fit": null,
            "object_position": null,
            "order": null,
            "overflow": null,
            "overflow_x": null,
            "overflow_y": null,
            "padding": null,
            "right": null,
            "top": null,
            "visibility": null,
            "width": null
          }
        },
        "25dbe90182e84345a1a04c9caa2f291e": {
          "model_module": "@jupyter-widgets/base",
          "model_name": "LayoutModel",
          "model_module_version": "1.2.0",
          "state": {
            "_model_module": "@jupyter-widgets/base",
            "_model_module_version": "1.2.0",
            "_model_name": "LayoutModel",
            "_view_count": null,
            "_view_module": "@jupyter-widgets/base",
            "_view_module_version": "1.2.0",
            "_view_name": "LayoutView",
            "align_content": null,
            "align_items": null,
            "align_self": null,
            "border": null,
            "bottom": null,
            "display": null,
            "flex": null,
            "flex_flow": null,
            "grid_area": null,
            "grid_auto_columns": null,
            "grid_auto_flow": null,
            "grid_auto_rows": null,
            "grid_column": null,
            "grid_gap": null,
            "grid_row": null,
            "grid_template_areas": null,
            "grid_template_columns": null,
            "grid_template_rows": null,
            "height": null,
            "justify_content": null,
            "justify_items": null,
            "left": null,
            "margin": null,
            "max_height": null,
            "max_width": null,
            "min_height": null,
            "min_width": null,
            "object_fit": null,
            "object_position": null,
            "order": null,
            "overflow": null,
            "overflow_x": null,
            "overflow_y": null,
            "padding": null,
            "right": null,
            "top": null,
            "visibility": null,
            "width": null
          }
        },
        "8c89df53ca58432eab3ab8ccbd9043e9": {
          "model_module": "@jupyter-widgets/controls",
          "model_name": "DescriptionStyleModel",
          "model_module_version": "1.5.0",
          "state": {
            "_model_module": "@jupyter-widgets/controls",
            "_model_module_version": "1.5.0",
            "_model_name": "DescriptionStyleModel",
            "_view_count": null,
            "_view_module": "@jupyter-widgets/base",
            "_view_module_version": "1.2.0",
            "_view_name": "StyleView",
            "description_width": ""
          }
        },
        "fb1adbb5a23948aca21c70be072b0f24": {
          "model_module": "@jupyter-widgets/base",
          "model_name": "LayoutModel",
          "model_module_version": "1.2.0",
          "state": {
            "_model_module": "@jupyter-widgets/base",
            "_model_module_version": "1.2.0",
            "_model_name": "LayoutModel",
            "_view_count": null,
            "_view_module": "@jupyter-widgets/base",
            "_view_module_version": "1.2.0",
            "_view_name": "LayoutView",
            "align_content": null,
            "align_items": null,
            "align_self": null,
            "border": null,
            "bottom": null,
            "display": null,
            "flex": null,
            "flex_flow": null,
            "grid_area": null,
            "grid_auto_columns": null,
            "grid_auto_flow": null,
            "grid_auto_rows": null,
            "grid_column": null,
            "grid_gap": null,
            "grid_row": null,
            "grid_template_areas": null,
            "grid_template_columns": null,
            "grid_template_rows": null,
            "height": null,
            "justify_content": null,
            "justify_items": null,
            "left": null,
            "margin": null,
            "max_height": null,
            "max_width": null,
            "min_height": null,
            "min_width": null,
            "object_fit": null,
            "object_position": null,
            "order": null,
            "overflow": null,
            "overflow_x": null,
            "overflow_y": null,
            "padding": null,
            "right": null,
            "top": null,
            "visibility": null,
            "width": null
          }
        },
        "0d758b82853c4fa780f3f6a1da5f712c": {
          "model_module": "@jupyter-widgets/controls",
          "model_name": "ProgressStyleModel",
          "model_module_version": "1.5.0",
          "state": {
            "_model_module": "@jupyter-widgets/controls",
            "_model_module_version": "1.5.0",
            "_model_name": "ProgressStyleModel",
            "_view_count": null,
            "_view_module": "@jupyter-widgets/base",
            "_view_module_version": "1.2.0",
            "_view_name": "StyleView",
            "bar_color": null,
            "description_width": ""
          }
        },
        "3bed00da246843b3bce0da6a46c6c366": {
          "model_module": "@jupyter-widgets/base",
          "model_name": "LayoutModel",
          "model_module_version": "1.2.0",
          "state": {
            "_model_module": "@jupyter-widgets/base",
            "_model_module_version": "1.2.0",
            "_model_name": "LayoutModel",
            "_view_count": null,
            "_view_module": "@jupyter-widgets/base",
            "_view_module_version": "1.2.0",
            "_view_name": "LayoutView",
            "align_content": null,
            "align_items": null,
            "align_self": null,
            "border": null,
            "bottom": null,
            "display": null,
            "flex": null,
            "flex_flow": null,
            "grid_area": null,
            "grid_auto_columns": null,
            "grid_auto_flow": null,
            "grid_auto_rows": null,
            "grid_column": null,
            "grid_gap": null,
            "grid_row": null,
            "grid_template_areas": null,
            "grid_template_columns": null,
            "grid_template_rows": null,
            "height": null,
            "justify_content": null,
            "justify_items": null,
            "left": null,
            "margin": null,
            "max_height": null,
            "max_width": null,
            "min_height": null,
            "min_width": null,
            "object_fit": null,
            "object_position": null,
            "order": null,
            "overflow": null,
            "overflow_x": null,
            "overflow_y": null,
            "padding": null,
            "right": null,
            "top": null,
            "visibility": null,
            "width": null
          }
        },
        "c1160982b7944fa5a3f6ec1d109e19ee": {
          "model_module": "@jupyter-widgets/controls",
          "model_name": "DescriptionStyleModel",
          "model_module_version": "1.5.0",
          "state": {
            "_model_module": "@jupyter-widgets/controls",
            "_model_module_version": "1.5.0",
            "_model_name": "DescriptionStyleModel",
            "_view_count": null,
            "_view_module": "@jupyter-widgets/base",
            "_view_module_version": "1.2.0",
            "_view_name": "StyleView",
            "description_width": ""
          }
        },
        "e6bf431c2c7a429690a8b4c2e0af1bae": {
          "model_module": "@jupyter-widgets/controls",
          "model_name": "HBoxModel",
          "model_module_version": "1.5.0",
          "state": {
            "_dom_classes": [],
            "_model_module": "@jupyter-widgets/controls",
            "_model_module_version": "1.5.0",
            "_model_name": "HBoxModel",
            "_view_count": null,
            "_view_module": "@jupyter-widgets/controls",
            "_view_module_version": "1.5.0",
            "_view_name": "HBoxView",
            "box_style": "",
            "children": [
              "IPY_MODEL_1f8cba13cbdc4c9db8373c74d7ac23a3",
              "IPY_MODEL_954d8c9fffbd478f8bde94acfd4eef67",
              "IPY_MODEL_b132a7f3c56943458f12f57780d5e497"
            ],
            "layout": "IPY_MODEL_d234210b70764266939711627a7eb34b"
          }
        },
        "1f8cba13cbdc4c9db8373c74d7ac23a3": {
          "model_module": "@jupyter-widgets/controls",
          "model_name": "HTMLModel",
          "model_module_version": "1.5.0",
          "state": {
            "_dom_classes": [],
            "_model_module": "@jupyter-widgets/controls",
            "_model_module_version": "1.5.0",
            "_model_name": "HTMLModel",
            "_view_count": null,
            "_view_module": "@jupyter-widgets/controls",
            "_view_module_version": "1.5.0",
            "_view_name": "HTMLView",
            "description": "",
            "description_tooltip": null,
            "layout": "IPY_MODEL_14197b344e41404094de7858a5318abb",
            "placeholder": "​",
            "style": "IPY_MODEL_381d49168b954f72b6ea4475bec277ce",
            "value": "tokenizer.json: 100%"
          }
        },
        "954d8c9fffbd478f8bde94acfd4eef67": {
          "model_module": "@jupyter-widgets/controls",
          "model_name": "FloatProgressModel",
          "model_module_version": "1.5.0",
          "state": {
            "_dom_classes": [],
            "_model_module": "@jupyter-widgets/controls",
            "_model_module_version": "1.5.0",
            "_model_name": "FloatProgressModel",
            "_view_count": null,
            "_view_module": "@jupyter-widgets/controls",
            "_view_module_version": "1.5.0",
            "_view_name": "ProgressView",
            "bar_style": "success",
            "description": "",
            "description_tooltip": null,
            "layout": "IPY_MODEL_d8b18e90f46540648a8d1a7bc14ca482",
            "max": 3132320,
            "min": 0,
            "orientation": "horizontal",
            "style": "IPY_MODEL_8b2fd78a174a4eefac5cf81471625cbf",
            "value": 3132320
          }
        },
        "b132a7f3c56943458f12f57780d5e497": {
          "model_module": "@jupyter-widgets/controls",
          "model_name": "HTMLModel",
          "model_module_version": "1.5.0",
          "state": {
            "_dom_classes": [],
            "_model_module": "@jupyter-widgets/controls",
            "_model_module_version": "1.5.0",
            "_model_name": "HTMLModel",
            "_view_count": null,
            "_view_module": "@jupyter-widgets/controls",
            "_view_module_version": "1.5.0",
            "_view_name": "HTMLView",
            "description": "",
            "description_tooltip": null,
            "layout": "IPY_MODEL_e133d66de92945e39e3b5f680956b0a7",
            "placeholder": "​",
            "style": "IPY_MODEL_7ddad30a3a5645a2b85e932509da8e93",
            "value": " 3.13M/3.13M [00:00&lt;00:00, 26.4MB/s]"
          }
        },
        "d234210b70764266939711627a7eb34b": {
          "model_module": "@jupyter-widgets/base",
          "model_name": "LayoutModel",
          "model_module_version": "1.2.0",
          "state": {
            "_model_module": "@jupyter-widgets/base",
            "_model_module_version": "1.2.0",
            "_model_name": "LayoutModel",
            "_view_count": null,
            "_view_module": "@jupyter-widgets/base",
            "_view_module_version": "1.2.0",
            "_view_name": "LayoutView",
            "align_content": null,
            "align_items": null,
            "align_self": null,
            "border": null,
            "bottom": null,
            "display": null,
            "flex": null,
            "flex_flow": null,
            "grid_area": null,
            "grid_auto_columns": null,
            "grid_auto_flow": null,
            "grid_auto_rows": null,
            "grid_column": null,
            "grid_gap": null,
            "grid_row": null,
            "grid_template_areas": null,
            "grid_template_columns": null,
            "grid_template_rows": null,
            "height": null,
            "justify_content": null,
            "justify_items": null,
            "left": null,
            "margin": null,
            "max_height": null,
            "max_width": null,
            "min_height": null,
            "min_width": null,
            "object_fit": null,
            "object_position": null,
            "order": null,
            "overflow": null,
            "overflow_x": null,
            "overflow_y": null,
            "padding": null,
            "right": null,
            "top": null,
            "visibility": null,
            "width": null
          }
        },
        "14197b344e41404094de7858a5318abb": {
          "model_module": "@jupyter-widgets/base",
          "model_name": "LayoutModel",
          "model_module_version": "1.2.0",
          "state": {
            "_model_module": "@jupyter-widgets/base",
            "_model_module_version": "1.2.0",
            "_model_name": "LayoutModel",
            "_view_count": null,
            "_view_module": "@jupyter-widgets/base",
            "_view_module_version": "1.2.0",
            "_view_name": "LayoutView",
            "align_content": null,
            "align_items": null,
            "align_self": null,
            "border": null,
            "bottom": null,
            "display": null,
            "flex": null,
            "flex_flow": null,
            "grid_area": null,
            "grid_auto_columns": null,
            "grid_auto_flow": null,
            "grid_auto_rows": null,
            "grid_column": null,
            "grid_gap": null,
            "grid_row": null,
            "grid_template_areas": null,
            "grid_template_columns": null,
            "grid_template_rows": null,
            "height": null,
            "justify_content": null,
            "justify_items": null,
            "left": null,
            "margin": null,
            "max_height": null,
            "max_width": null,
            "min_height": null,
            "min_width": null,
            "object_fit": null,
            "object_position": null,
            "order": null,
            "overflow": null,
            "overflow_x": null,
            "overflow_y": null,
            "padding": null,
            "right": null,
            "top": null,
            "visibility": null,
            "width": null
          }
        },
        "381d49168b954f72b6ea4475bec277ce": {
          "model_module": "@jupyter-widgets/controls",
          "model_name": "DescriptionStyleModel",
          "model_module_version": "1.5.0",
          "state": {
            "_model_module": "@jupyter-widgets/controls",
            "_model_module_version": "1.5.0",
            "_model_name": "DescriptionStyleModel",
            "_view_count": null,
            "_view_module": "@jupyter-widgets/base",
            "_view_module_version": "1.2.0",
            "_view_name": "StyleView",
            "description_width": ""
          }
        },
        "d8b18e90f46540648a8d1a7bc14ca482": {
          "model_module": "@jupyter-widgets/base",
          "model_name": "LayoutModel",
          "model_module_version": "1.2.0",
          "state": {
            "_model_module": "@jupyter-widgets/base",
            "_model_module_version": "1.2.0",
            "_model_name": "LayoutModel",
            "_view_count": null,
            "_view_module": "@jupyter-widgets/base",
            "_view_module_version": "1.2.0",
            "_view_name": "LayoutView",
            "align_content": null,
            "align_items": null,
            "align_self": null,
            "border": null,
            "bottom": null,
            "display": null,
            "flex": null,
            "flex_flow": null,
            "grid_area": null,
            "grid_auto_columns": null,
            "grid_auto_flow": null,
            "grid_auto_rows": null,
            "grid_column": null,
            "grid_gap": null,
            "grid_row": null,
            "grid_template_areas": null,
            "grid_template_columns": null,
            "grid_template_rows": null,
            "height": null,
            "justify_content": null,
            "justify_items": null,
            "left": null,
            "margin": null,
            "max_height": null,
            "max_width": null,
            "min_height": null,
            "min_width": null,
            "object_fit": null,
            "object_position": null,
            "order": null,
            "overflow": null,
            "overflow_x": null,
            "overflow_y": null,
            "padding": null,
            "right": null,
            "top": null,
            "visibility": null,
            "width": null
          }
        },
        "8b2fd78a174a4eefac5cf81471625cbf": {
          "model_module": "@jupyter-widgets/controls",
          "model_name": "ProgressStyleModel",
          "model_module_version": "1.5.0",
          "state": {
            "_model_module": "@jupyter-widgets/controls",
            "_model_module_version": "1.5.0",
            "_model_name": "ProgressStyleModel",
            "_view_count": null,
            "_view_module": "@jupyter-widgets/base",
            "_view_module_version": "1.2.0",
            "_view_name": "StyleView",
            "bar_color": null,
            "description_width": ""
          }
        },
        "e133d66de92945e39e3b5f680956b0a7": {
          "model_module": "@jupyter-widgets/base",
          "model_name": "LayoutModel",
          "model_module_version": "1.2.0",
          "state": {
            "_model_module": "@jupyter-widgets/base",
            "_model_module_version": "1.2.0",
            "_model_name": "LayoutModel",
            "_view_count": null,
            "_view_module": "@jupyter-widgets/base",
            "_view_module_version": "1.2.0",
            "_view_name": "LayoutView",
            "align_content": null,
            "align_items": null,
            "align_self": null,
            "border": null,
            "bottom": null,
            "display": null,
            "flex": null,
            "flex_flow": null,
            "grid_area": null,
            "grid_auto_columns": null,
            "grid_auto_flow": null,
            "grid_auto_rows": null,
            "grid_column": null,
            "grid_gap": null,
            "grid_row": null,
            "grid_template_areas": null,
            "grid_template_columns": null,
            "grid_template_rows": null,
            "height": null,
            "justify_content": null,
            "justify_items": null,
            "left": null,
            "margin": null,
            "max_height": null,
            "max_width": null,
            "min_height": null,
            "min_width": null,
            "object_fit": null,
            "object_position": null,
            "order": null,
            "overflow": null,
            "overflow_x": null,
            "overflow_y": null,
            "padding": null,
            "right": null,
            "top": null,
            "visibility": null,
            "width": null
          }
        },
        "7ddad30a3a5645a2b85e932509da8e93": {
          "model_module": "@jupyter-widgets/controls",
          "model_name": "DescriptionStyleModel",
          "model_module_version": "1.5.0",
          "state": {
            "_model_module": "@jupyter-widgets/controls",
            "_model_module_version": "1.5.0",
            "_model_name": "DescriptionStyleModel",
            "_view_count": null,
            "_view_module": "@jupyter-widgets/base",
            "_view_module_version": "1.2.0",
            "_view_name": "StyleView",
            "description_width": ""
          }
        },
        "a89e53586f97453fb8f22a5e6bebaeca": {
          "model_module": "@jupyter-widgets/controls",
          "model_name": "HBoxModel",
          "model_module_version": "1.5.0",
          "state": {
            "_dom_classes": [],
            "_model_module": "@jupyter-widgets/controls",
            "_model_module_version": "1.5.0",
            "_model_name": "HBoxModel",
            "_view_count": null,
            "_view_module": "@jupyter-widgets/controls",
            "_view_module_version": "1.5.0",
            "_view_name": "HBoxView",
            "box_style": "",
            "children": [
              "IPY_MODEL_5574f1affb51445894c0c8339764e646",
              "IPY_MODEL_4e81e19c1df54b5c8b1f7045dd3a4c85",
              "IPY_MODEL_6a1d0a59f473420aac0949875b3a1ab4"
            ],
            "layout": "IPY_MODEL_083ec32f04d94d17bb43a0c2a8bc7971"
          }
        },
        "5574f1affb51445894c0c8339764e646": {
          "model_module": "@jupyter-widgets/controls",
          "model_name": "HTMLModel",
          "model_module_version": "1.5.0",
          "state": {
            "_dom_classes": [],
            "_model_module": "@jupyter-widgets/controls",
            "_model_module_version": "1.5.0",
            "_model_name": "HTMLModel",
            "_view_count": null,
            "_view_module": "@jupyter-widgets/controls",
            "_view_module_version": "1.5.0",
            "_view_name": "HTMLView",
            "description": "",
            "description_tooltip": null,
            "layout": "IPY_MODEL_d081be658b9e4dea99a5b6486713cdfa",
            "placeholder": "​",
            "style": "IPY_MODEL_d896f2da40c447d9b19f2c8887809411",
            "value": "pytorch_model.bin: 100%"
          }
        },
        "4e81e19c1df54b5c8b1f7045dd3a4c85": {
          "model_module": "@jupyter-widgets/controls",
          "model_name": "FloatProgressModel",
          "model_module_version": "1.5.0",
          "state": {
            "_dom_classes": [],
            "_model_module": "@jupyter-widgets/controls",
            "_model_module_version": "1.5.0",
            "_model_name": "FloatProgressModel",
            "_view_count": null,
            "_view_module": "@jupyter-widgets/controls",
            "_view_module_version": "1.5.0",
            "_view_name": "ProgressView",
            "bar_style": "success",
            "description": "",
            "description_tooltip": null,
            "layout": "IPY_MODEL_db9e582b53a44e6db141c969f157264b",
            "max": 542923308,
            "min": 0,
            "orientation": "horizontal",
            "style": "IPY_MODEL_d937277d9a564cb1939bd68596dfd5b8",
            "value": 542923308
          }
        },
        "6a1d0a59f473420aac0949875b3a1ab4": {
          "model_module": "@jupyter-widgets/controls",
          "model_name": "HTMLModel",
          "model_module_version": "1.5.0",
          "state": {
            "_dom_classes": [],
            "_model_module": "@jupyter-widgets/controls",
            "_model_module_version": "1.5.0",
            "_model_name": "HTMLModel",
            "_view_count": null,
            "_view_module": "@jupyter-widgets/controls",
            "_view_module_version": "1.5.0",
            "_view_name": "HTMLView",
            "description": "",
            "description_tooltip": null,
            "layout": "IPY_MODEL_ac085fa54dcf492e8bb7b7ea16f4be01",
            "placeholder": "​",
            "style": "IPY_MODEL_39b4b0a061c0494bbbd23ba3e362b6eb",
            "value": " 543M/543M [00:03&lt;00:00, 84.8MB/s]"
          }
        },
        "083ec32f04d94d17bb43a0c2a8bc7971": {
          "model_module": "@jupyter-widgets/base",
          "model_name": "LayoutModel",
          "model_module_version": "1.2.0",
          "state": {
            "_model_module": "@jupyter-widgets/base",
            "_model_module_version": "1.2.0",
            "_model_name": "LayoutModel",
            "_view_count": null,
            "_view_module": "@jupyter-widgets/base",
            "_view_module_version": "1.2.0",
            "_view_name": "LayoutView",
            "align_content": null,
            "align_items": null,
            "align_self": null,
            "border": null,
            "bottom": null,
            "display": null,
            "flex": null,
            "flex_flow": null,
            "grid_area": null,
            "grid_auto_columns": null,
            "grid_auto_flow": null,
            "grid_auto_rows": null,
            "grid_column": null,
            "grid_gap": null,
            "grid_row": null,
            "grid_template_areas": null,
            "grid_template_columns": null,
            "grid_template_rows": null,
            "height": null,
            "justify_content": null,
            "justify_items": null,
            "left": null,
            "margin": null,
            "max_height": null,
            "max_width": null,
            "min_height": null,
            "min_width": null,
            "object_fit": null,
            "object_position": null,
            "order": null,
            "overflow": null,
            "overflow_x": null,
            "overflow_y": null,
            "padding": null,
            "right": null,
            "top": null,
            "visibility": null,
            "width": null
          }
        },
        "d081be658b9e4dea99a5b6486713cdfa": {
          "model_module": "@jupyter-widgets/base",
          "model_name": "LayoutModel",
          "model_module_version": "1.2.0",
          "state": {
            "_model_module": "@jupyter-widgets/base",
            "_model_module_version": "1.2.0",
            "_model_name": "LayoutModel",
            "_view_count": null,
            "_view_module": "@jupyter-widgets/base",
            "_view_module_version": "1.2.0",
            "_view_name": "LayoutView",
            "align_content": null,
            "align_items": null,
            "align_self": null,
            "border": null,
            "bottom": null,
            "display": null,
            "flex": null,
            "flex_flow": null,
            "grid_area": null,
            "grid_auto_columns": null,
            "grid_auto_flow": null,
            "grid_auto_rows": null,
            "grid_column": null,
            "grid_gap": null,
            "grid_row": null,
            "grid_template_areas": null,
            "grid_template_columns": null,
            "grid_template_rows": null,
            "height": null,
            "justify_content": null,
            "justify_items": null,
            "left": null,
            "margin": null,
            "max_height": null,
            "max_width": null,
            "min_height": null,
            "min_width": null,
            "object_fit": null,
            "object_position": null,
            "order": null,
            "overflow": null,
            "overflow_x": null,
            "overflow_y": null,
            "padding": null,
            "right": null,
            "top": null,
            "visibility": null,
            "width": null
          }
        },
        "d896f2da40c447d9b19f2c8887809411": {
          "model_module": "@jupyter-widgets/controls",
          "model_name": "DescriptionStyleModel",
          "model_module_version": "1.5.0",
          "state": {
            "_model_module": "@jupyter-widgets/controls",
            "_model_module_version": "1.5.0",
            "_model_name": "DescriptionStyleModel",
            "_view_count": null,
            "_view_module": "@jupyter-widgets/base",
            "_view_module_version": "1.2.0",
            "_view_name": "StyleView",
            "description_width": ""
          }
        },
        "db9e582b53a44e6db141c969f157264b": {
          "model_module": "@jupyter-widgets/base",
          "model_name": "LayoutModel",
          "model_module_version": "1.2.0",
          "state": {
            "_model_module": "@jupyter-widgets/base",
            "_model_module_version": "1.2.0",
            "_model_name": "LayoutModel",
            "_view_count": null,
            "_view_module": "@jupyter-widgets/base",
            "_view_module_version": "1.2.0",
            "_view_name": "LayoutView",
            "align_content": null,
            "align_items": null,
            "align_self": null,
            "border": null,
            "bottom": null,
            "display": null,
            "flex": null,
            "flex_flow": null,
            "grid_area": null,
            "grid_auto_columns": null,
            "grid_auto_flow": null,
            "grid_auto_rows": null,
            "grid_column": null,
            "grid_gap": null,
            "grid_row": null,
            "grid_template_areas": null,
            "grid_template_columns": null,
            "grid_template_rows": null,
            "height": null,
            "justify_content": null,
            "justify_items": null,
            "left": null,
            "margin": null,
            "max_height": null,
            "max_width": null,
            "min_height": null,
            "min_width": null,
            "object_fit": null,
            "object_position": null,
            "order": null,
            "overflow": null,
            "overflow_x": null,
            "overflow_y": null,
            "padding": null,
            "right": null,
            "top": null,
            "visibility": null,
            "width": null
          }
        },
        "d937277d9a564cb1939bd68596dfd5b8": {
          "model_module": "@jupyter-widgets/controls",
          "model_name": "ProgressStyleModel",
          "model_module_version": "1.5.0",
          "state": {
            "_model_module": "@jupyter-widgets/controls",
            "_model_module_version": "1.5.0",
            "_model_name": "ProgressStyleModel",
            "_view_count": null,
            "_view_module": "@jupyter-widgets/base",
            "_view_module_version": "1.2.0",
            "_view_name": "StyleView",
            "bar_color": null,
            "description_width": ""
          }
        },
        "ac085fa54dcf492e8bb7b7ea16f4be01": {
          "model_module": "@jupyter-widgets/base",
          "model_name": "LayoutModel",
          "model_module_version": "1.2.0",
          "state": {
            "_model_module": "@jupyter-widgets/base",
            "_model_module_version": "1.2.0",
            "_model_name": "LayoutModel",
            "_view_count": null,
            "_view_module": "@jupyter-widgets/base",
            "_view_module_version": "1.2.0",
            "_view_name": "LayoutView",
            "align_content": null,
            "align_items": null,
            "align_self": null,
            "border": null,
            "bottom": null,
            "display": null,
            "flex": null,
            "flex_flow": null,
            "grid_area": null,
            "grid_auto_columns": null,
            "grid_auto_flow": null,
            "grid_auto_rows": null,
            "grid_column": null,
            "grid_gap": null,
            "grid_row": null,
            "grid_template_areas": null,
            "grid_template_columns": null,
            "grid_template_rows": null,
            "height": null,
            "justify_content": null,
            "justify_items": null,
            "left": null,
            "margin": null,
            "max_height": null,
            "max_width": null,
            "min_height": null,
            "min_width": null,
            "object_fit": null,
            "object_position": null,
            "order": null,
            "overflow": null,
            "overflow_x": null,
            "overflow_y": null,
            "padding": null,
            "right": null,
            "top": null,
            "visibility": null,
            "width": null
          }
        },
        "39b4b0a061c0494bbbd23ba3e362b6eb": {
          "model_module": "@jupyter-widgets/controls",
          "model_name": "DescriptionStyleModel",
          "model_module_version": "1.5.0",
          "state": {
            "_model_module": "@jupyter-widgets/controls",
            "_model_module_version": "1.5.0",
            "_model_name": "DescriptionStyleModel",
            "_view_count": null,
            "_view_module": "@jupyter-widgets/base",
            "_view_module_version": "1.2.0",
            "_view_name": "StyleView",
            "description_width": ""
          }
        }
      }
    }
  },
  "nbformat_minor": 0,
  "nbformat": 4,
  "cells": [
    {
      "cell_type": "code",
      "source": [
        "from google.colab import drive\n",
        "drive.mount('/content/drive')"
      ],
      "metadata": {
        "colab": {
          "base_uri": "https://localhost:8080/"
        },
        "id": "VFTuDThV3T8L",
        "outputId": "d955b3d3-3c81-4557-fa1c-6405a97f0b37"
      },
      "execution_count": 1,
      "outputs": [
        {
          "output_type": "stream",
          "name": "stdout",
          "text": [
            "Mounted at /content/drive\n"
          ]
        }
      ]
    },
    {
      "cell_type": "code",
      "source": [
        "!unzip \"/content/drive/MyDrive/Data/UIT-ISE Dataset.zip\""
      ],
      "metadata": {
        "colab": {
          "base_uri": "https://localhost:8080/"
        },
        "id": "2FhiF9LC3MTh",
        "outputId": "d39468b2-565d-4ee7-81d9-45092f502bc8"
      },
      "execution_count": 2,
      "outputs": [
        {
          "output_type": "stream",
          "name": "stdout",
          "text": [
            "Archive:  /content/drive/MyDrive/Data/UIT-ISE Dataset.zip\n",
            "   creating: UIT-ISE Dataset/.ipynb_checkpoints/\n",
            "  inflating: UIT-ISE Dataset/ise-dsc01-warmup.json  \n",
            "  inflating: UIT-ISE Dataset/ise-dsc01-public-test-offcial.json  \n",
            "  inflating: UIT-ISE Dataset/public_result.json  \n",
            "  inflating: UIT-ISE Dataset/ise-dsc01-train.json  \n"
          ]
        }
      ]
    },
    {
      "cell_type": "code",
      "source": [
        "# For read excel format form pandas\n",
        "!pip install openpyxl"
      ],
      "metadata": {
        "_kg_hide-output": true,
        "execution": {
          "iopub.status.busy": "2024-01-17T14:09:51.435687Z",
          "iopub.execute_input": "2024-01-17T14:09:51.436047Z",
          "iopub.status.idle": "2024-01-17T14:10:02.222473Z",
          "shell.execute_reply.started": "2024-01-17T14:09:51.435963Z",
          "shell.execute_reply": "2024-01-17T14:10:02.221510Z"
        },
        "trusted": true,
        "colab": {
          "base_uri": "https://localhost:8080/"
        },
        "id": "dXBsrOu_0nWo",
        "outputId": "5cf4b8af-c8e4-4b13-a530-3e8830b8f28b"
      },
      "execution_count": 3,
      "outputs": [
        {
          "output_type": "stream",
          "name": "stdout",
          "text": [
            "Requirement already satisfied: openpyxl in /usr/local/lib/python3.10/dist-packages (3.1.2)\n",
            "Requirement already satisfied: et-xmlfile in /usr/local/lib/python3.10/dist-packages (from openpyxl) (1.1.0)\n"
          ]
        }
      ]
    },
    {
      "cell_type": "code",
      "source": [
        "import torch\n",
        "import numpy as np\n",
        "import pandas as pd\n",
        "import seaborn as sns\n",
        "import matplotlib.pyplot as plt\n",
        "\n",
        "from gensim.utils import simple_preprocess\n",
        "from sklearn.model_selection import StratifiedKFold\n",
        "from sklearn.metrics import classification_report, confusion_matrix\n",
        "\n",
        "import torch.nn as nn\n",
        "from torch.optim import AdamW\n",
        "from torch.utils.data import Dataset, DataLoader\n",
        "\n",
        "from transformers import get_linear_schedule_with_warmup, AutoTokenizer, AutoModel, logging\n",
        "\n",
        "import warnings\n",
        "warnings.filterwarnings(\"ignore\")\n",
        "\n",
        "logging.set_verbosity_error()"
      ],
      "metadata": {
        "execution": {
          "iopub.status.busy": "2024-01-17T14:13:08.461750Z",
          "iopub.execute_input": "2024-01-17T14:13:08.462537Z",
          "iopub.status.idle": "2024-01-17T14:13:15.913928Z",
          "shell.execute_reply.started": "2024-01-17T14:13:08.462502Z",
          "shell.execute_reply": "2024-01-17T14:13:15.913203Z"
        },
        "trusted": true,
        "id": "bDC22Dzv0nWo"
      },
      "execution_count": 4,
      "outputs": []
    },
    {
      "cell_type": "code",
      "source": [
        "def seed_everything(seed_value):\n",
        "    np.random.seed(seed_value)\n",
        "    torch.manual_seed(seed_value)\n",
        "\n",
        "    if torch.cuda.is_available():\n",
        "        torch.cuda.manual_seed(seed_value)\n",
        "        torch.cuda.manual_seed_all(seed_value)\n",
        "        torch.backends.cudnn.deterministic = True\n",
        "        torch.backends.cudnn.benchmark = True\n",
        "\n",
        "seed_everything(86)\n",
        "device = torch.device('cuda:0' if torch.cuda.is_available() else 'cpu')\n",
        "EPOCHS = 3\n",
        "N_SPLITS = 5"
      ],
      "metadata": {
        "id": "dGyTv5yz0nWp"
      },
      "execution_count": 5,
      "outputs": []
    },
    {
      "cell_type": "code",
      "source": [
        "import json\n",
        "\n",
        "train_path = '/content/UIT-ISE Dataset/ise-dsc01-train.json'\n",
        "with open(train_path, 'r') as file:\n",
        "    data = json.load(file)\n",
        "\n",
        "import pandas as pd\n",
        "df = pd.DataFrame.from_dict(data, orient='index')\n",
        "df.reset_index(inplace=True)\n",
        "df.rename(columns={'index': 'id'}, inplace=True)"
      ],
      "metadata": {
        "execution": {
          "iopub.status.busy": "2024-01-17T14:23:22.503425Z",
          "iopub.execute_input": "2024-01-17T14:23:22.504234Z",
          "iopub.status.idle": "2024-01-17T14:23:24.478409Z",
          "shell.execute_reply.started": "2024-01-17T14:23:22.504196Z",
          "shell.execute_reply": "2024-01-17T14:23:24.477609Z"
        },
        "trusted": true,
        "id": "HVfjr0Ed0nWp"
      },
      "execution_count": 6,
      "outputs": []
    },
    {
      "cell_type": "code",
      "source": [
        "from sklearn.model_selection import train_test_split\n",
        "\n",
        "train_df, test_df = train_test_split(df, test_size=0.2)\n",
        "train_df, val_df = train_test_split(train_df, test_size=0.2)"
      ],
      "metadata": {
        "execution": {
          "iopub.status.busy": "2024-01-17T14:24:11.290205Z",
          "iopub.execute_input": "2024-01-17T14:24:11.290825Z",
          "iopub.status.idle": "2024-01-17T14:24:11.321024Z",
          "shell.execute_reply.started": "2024-01-17T14:24:11.290787Z",
          "shell.execute_reply": "2024-01-17T14:24:11.320179Z"
        },
        "trusted": true,
        "id": "yL08pBtn0nWp"
      },
      "execution_count": 7,
      "outputs": []
    },
    {
      "cell_type": "code",
      "source": [
        "def get_data(df):\n",
        "    df = df[['context','domain']]\n",
        "    return df\n",
        "\n",
        "train_df = get_data(train_df)\n",
        "valid_df = get_data(val_df)\n",
        "test_df = get_data(test_df)\n",
        "\n",
        "# We will use Kfold later\n",
        "train_df = pd.concat([train_df, valid_df], ignore_index=True)\n",
        "skf = StratifiedKFold(n_splits=N_SPLITS)\n",
        "for fold, (_, val_) in enumerate(skf.split(X=train_df, y=train_df.domain)):\n",
        "    train_df.loc[val_, \"kfold\"] = fold"
      ],
      "metadata": {
        "execution": {
          "iopub.status.busy": "2024-01-17T14:25:23.416463Z",
          "iopub.execute_input": "2024-01-17T14:25:23.416744Z",
          "iopub.status.idle": "2024-01-17T14:25:23.561258Z",
          "shell.execute_reply.started": "2024-01-17T14:25:23.416717Z",
          "shell.execute_reply": "2024-01-17T14:25:23.560407Z"
        },
        "trusted": true,
        "id": "dZGPjELX0nWq"
      },
      "execution_count": 8,
      "outputs": []
    },
    {
      "cell_type": "code",
      "source": [
        "train_df.sample(5)"
      ],
      "metadata": {
        "execution": {
          "iopub.status.busy": "2024-01-17T14:25:25.538657Z",
          "iopub.execute_input": "2024-01-17T14:25:25.538950Z",
          "iopub.status.idle": "2024-01-17T14:25:25.553018Z",
          "shell.execute_reply.started": "2024-01-17T14:25:25.538918Z",
          "shell.execute_reply": "2024-01-17T14:25:25.552283Z"
        },
        "trusted": true,
        "colab": {
          "base_uri": "https://localhost:8080/",
          "height": 206
        },
        "id": "ShLNJFRA0nWq",
        "outputId": "141aef70-69d0-4b4e-edb5-1132690a1fe5"
      },
      "execution_count": 9,
      "outputs": [
        {
          "output_type": "execute_result",
          "data": {
            "text/plain": [
              "                                                 context    domain  kfold\n",
              "28694  Mảnh thiên thạch thường bắt nguồn từ tiểu hành...  khoa-hoc    4.0\n",
              "5844   Bà Tư là chủ cơ sở thu mua hải sản Nam Tư đóng...   thoi-su    0.0\n",
              "18534  Ngày 26/9, lãnh đạo Cục An toàn lao động cho b...   thoi-su    3.0\n",
              "21187  Trong công điện ban hành tối 4/5, Thủ tướng Ph...   thoi-su    3.0\n",
              "23885  Ba độc giả trúng thưởng gồm: Vũ Thị Mai Anh (m...  khoa-hoc    3.0"
            ],
            "text/html": [
              "\n",
              "  <div id=\"df-4c9d1307-9b13-43fd-a8af-0d2de2cd2173\" class=\"colab-df-container\">\n",
              "    <div>\n",
              "<style scoped>\n",
              "    .dataframe tbody tr th:only-of-type {\n",
              "        vertical-align: middle;\n",
              "    }\n",
              "\n",
              "    .dataframe tbody tr th {\n",
              "        vertical-align: top;\n",
              "    }\n",
              "\n",
              "    .dataframe thead th {\n",
              "        text-align: right;\n",
              "    }\n",
              "</style>\n",
              "<table border=\"1\" class=\"dataframe\">\n",
              "  <thead>\n",
              "    <tr style=\"text-align: right;\">\n",
              "      <th></th>\n",
              "      <th>context</th>\n",
              "      <th>domain</th>\n",
              "      <th>kfold</th>\n",
              "    </tr>\n",
              "  </thead>\n",
              "  <tbody>\n",
              "    <tr>\n",
              "      <th>28694</th>\n",
              "      <td>Mảnh thiên thạch thường bắt nguồn từ tiểu hành...</td>\n",
              "      <td>khoa-hoc</td>\n",
              "      <td>4.0</td>\n",
              "    </tr>\n",
              "    <tr>\n",
              "      <th>5844</th>\n",
              "      <td>Bà Tư là chủ cơ sở thu mua hải sản Nam Tư đóng...</td>\n",
              "      <td>thoi-su</td>\n",
              "      <td>0.0</td>\n",
              "    </tr>\n",
              "    <tr>\n",
              "      <th>18534</th>\n",
              "      <td>Ngày 26/9, lãnh đạo Cục An toàn lao động cho b...</td>\n",
              "      <td>thoi-su</td>\n",
              "      <td>3.0</td>\n",
              "    </tr>\n",
              "    <tr>\n",
              "      <th>21187</th>\n",
              "      <td>Trong công điện ban hành tối 4/5, Thủ tướng Ph...</td>\n",
              "      <td>thoi-su</td>\n",
              "      <td>3.0</td>\n",
              "    </tr>\n",
              "    <tr>\n",
              "      <th>23885</th>\n",
              "      <td>Ba độc giả trúng thưởng gồm: Vũ Thị Mai Anh (m...</td>\n",
              "      <td>khoa-hoc</td>\n",
              "      <td>3.0</td>\n",
              "    </tr>\n",
              "  </tbody>\n",
              "</table>\n",
              "</div>\n",
              "    <div class=\"colab-df-buttons\">\n",
              "\n",
              "  <div class=\"colab-df-container\">\n",
              "    <button class=\"colab-df-convert\" onclick=\"convertToInteractive('df-4c9d1307-9b13-43fd-a8af-0d2de2cd2173')\"\n",
              "            title=\"Convert this dataframe to an interactive table.\"\n",
              "            style=\"display:none;\">\n",
              "\n",
              "  <svg xmlns=\"http://www.w3.org/2000/svg\" height=\"24px\" viewBox=\"0 -960 960 960\">\n",
              "    <path d=\"M120-120v-720h720v720H120Zm60-500h600v-160H180v160Zm220 220h160v-160H400v160Zm0 220h160v-160H400v160ZM180-400h160v-160H180v160Zm440 0h160v-160H620v160ZM180-180h160v-160H180v160Zm440 0h160v-160H620v160Z\"/>\n",
              "  </svg>\n",
              "    </button>\n",
              "\n",
              "  <style>\n",
              "    .colab-df-container {\n",
              "      display:flex;\n",
              "      gap: 12px;\n",
              "    }\n",
              "\n",
              "    .colab-df-convert {\n",
              "      background-color: #E8F0FE;\n",
              "      border: none;\n",
              "      border-radius: 50%;\n",
              "      cursor: pointer;\n",
              "      display: none;\n",
              "      fill: #1967D2;\n",
              "      height: 32px;\n",
              "      padding: 0 0 0 0;\n",
              "      width: 32px;\n",
              "    }\n",
              "\n",
              "    .colab-df-convert:hover {\n",
              "      background-color: #E2EBFA;\n",
              "      box-shadow: 0px 1px 2px rgba(60, 64, 67, 0.3), 0px 1px 3px 1px rgba(60, 64, 67, 0.15);\n",
              "      fill: #174EA6;\n",
              "    }\n",
              "\n",
              "    .colab-df-buttons div {\n",
              "      margin-bottom: 4px;\n",
              "    }\n",
              "\n",
              "    [theme=dark] .colab-df-convert {\n",
              "      background-color: #3B4455;\n",
              "      fill: #D2E3FC;\n",
              "    }\n",
              "\n",
              "    [theme=dark] .colab-df-convert:hover {\n",
              "      background-color: #434B5C;\n",
              "      box-shadow: 0px 1px 3px 1px rgba(0, 0, 0, 0.15);\n",
              "      filter: drop-shadow(0px 1px 2px rgba(0, 0, 0, 0.3));\n",
              "      fill: #FFFFFF;\n",
              "    }\n",
              "  </style>\n",
              "\n",
              "    <script>\n",
              "      const buttonEl =\n",
              "        document.querySelector('#df-4c9d1307-9b13-43fd-a8af-0d2de2cd2173 button.colab-df-convert');\n",
              "      buttonEl.style.display =\n",
              "        google.colab.kernel.accessAllowed ? 'block' : 'none';\n",
              "\n",
              "      async function convertToInteractive(key) {\n",
              "        const element = document.querySelector('#df-4c9d1307-9b13-43fd-a8af-0d2de2cd2173');\n",
              "        const dataTable =\n",
              "          await google.colab.kernel.invokeFunction('convertToInteractive',\n",
              "                                                    [key], {});\n",
              "        if (!dataTable) return;\n",
              "\n",
              "        const docLinkHtml = 'Like what you see? Visit the ' +\n",
              "          '<a target=\"_blank\" href=https://colab.research.google.com/notebooks/data_table.ipynb>data table notebook</a>'\n",
              "          + ' to learn more about interactive tables.';\n",
              "        element.innerHTML = '';\n",
              "        dataTable['output_type'] = 'display_data';\n",
              "        await google.colab.output.renderOutput(dataTable, element);\n",
              "        const docLink = document.createElement('div');\n",
              "        docLink.innerHTML = docLinkHtml;\n",
              "        element.appendChild(docLink);\n",
              "      }\n",
              "    </script>\n",
              "  </div>\n",
              "\n",
              "\n",
              "<div id=\"df-746bd8b9-b074-4c73-9d2f-bb5adcbdfdd8\">\n",
              "  <button class=\"colab-df-quickchart\" onclick=\"quickchart('df-746bd8b9-b074-4c73-9d2f-bb5adcbdfdd8')\"\n",
              "            title=\"Suggest charts\"\n",
              "            style=\"display:none;\">\n",
              "\n",
              "<svg xmlns=\"http://www.w3.org/2000/svg\" height=\"24px\"viewBox=\"0 0 24 24\"\n",
              "     width=\"24px\">\n",
              "    <g>\n",
              "        <path d=\"M19 3H5c-1.1 0-2 .9-2 2v14c0 1.1.9 2 2 2h14c1.1 0 2-.9 2-2V5c0-1.1-.9-2-2-2zM9 17H7v-7h2v7zm4 0h-2V7h2v10zm4 0h-2v-4h2v4z\"/>\n",
              "    </g>\n",
              "</svg>\n",
              "  </button>\n",
              "\n",
              "<style>\n",
              "  .colab-df-quickchart {\n",
              "      --bg-color: #E8F0FE;\n",
              "      --fill-color: #1967D2;\n",
              "      --hover-bg-color: #E2EBFA;\n",
              "      --hover-fill-color: #174EA6;\n",
              "      --disabled-fill-color: #AAA;\n",
              "      --disabled-bg-color: #DDD;\n",
              "  }\n",
              "\n",
              "  [theme=dark] .colab-df-quickchart {\n",
              "      --bg-color: #3B4455;\n",
              "      --fill-color: #D2E3FC;\n",
              "      --hover-bg-color: #434B5C;\n",
              "      --hover-fill-color: #FFFFFF;\n",
              "      --disabled-bg-color: #3B4455;\n",
              "      --disabled-fill-color: #666;\n",
              "  }\n",
              "\n",
              "  .colab-df-quickchart {\n",
              "    background-color: var(--bg-color);\n",
              "    border: none;\n",
              "    border-radius: 50%;\n",
              "    cursor: pointer;\n",
              "    display: none;\n",
              "    fill: var(--fill-color);\n",
              "    height: 32px;\n",
              "    padding: 0;\n",
              "    width: 32px;\n",
              "  }\n",
              "\n",
              "  .colab-df-quickchart:hover {\n",
              "    background-color: var(--hover-bg-color);\n",
              "    box-shadow: 0 1px 2px rgba(60, 64, 67, 0.3), 0 1px 3px 1px rgba(60, 64, 67, 0.15);\n",
              "    fill: var(--button-hover-fill-color);\n",
              "  }\n",
              "\n",
              "  .colab-df-quickchart-complete:disabled,\n",
              "  .colab-df-quickchart-complete:disabled:hover {\n",
              "    background-color: var(--disabled-bg-color);\n",
              "    fill: var(--disabled-fill-color);\n",
              "    box-shadow: none;\n",
              "  }\n",
              "\n",
              "  .colab-df-spinner {\n",
              "    border: 2px solid var(--fill-color);\n",
              "    border-color: transparent;\n",
              "    border-bottom-color: var(--fill-color);\n",
              "    animation:\n",
              "      spin 1s steps(1) infinite;\n",
              "  }\n",
              "\n",
              "  @keyframes spin {\n",
              "    0% {\n",
              "      border-color: transparent;\n",
              "      border-bottom-color: var(--fill-color);\n",
              "      border-left-color: var(--fill-color);\n",
              "    }\n",
              "    20% {\n",
              "      border-color: transparent;\n",
              "      border-left-color: var(--fill-color);\n",
              "      border-top-color: var(--fill-color);\n",
              "    }\n",
              "    30% {\n",
              "      border-color: transparent;\n",
              "      border-left-color: var(--fill-color);\n",
              "      border-top-color: var(--fill-color);\n",
              "      border-right-color: var(--fill-color);\n",
              "    }\n",
              "    40% {\n",
              "      border-color: transparent;\n",
              "      border-right-color: var(--fill-color);\n",
              "      border-top-color: var(--fill-color);\n",
              "    }\n",
              "    60% {\n",
              "      border-color: transparent;\n",
              "      border-right-color: var(--fill-color);\n",
              "    }\n",
              "    80% {\n",
              "      border-color: transparent;\n",
              "      border-right-color: var(--fill-color);\n",
              "      border-bottom-color: var(--fill-color);\n",
              "    }\n",
              "    90% {\n",
              "      border-color: transparent;\n",
              "      border-bottom-color: var(--fill-color);\n",
              "    }\n",
              "  }\n",
              "</style>\n",
              "\n",
              "  <script>\n",
              "    async function quickchart(key) {\n",
              "      const quickchartButtonEl =\n",
              "        document.querySelector('#' + key + ' button');\n",
              "      quickchartButtonEl.disabled = true;  // To prevent multiple clicks.\n",
              "      quickchartButtonEl.classList.add('colab-df-spinner');\n",
              "      try {\n",
              "        const charts = await google.colab.kernel.invokeFunction(\n",
              "            'suggestCharts', [key], {});\n",
              "      } catch (error) {\n",
              "        console.error('Error during call to suggestCharts:', error);\n",
              "      }\n",
              "      quickchartButtonEl.classList.remove('colab-df-spinner');\n",
              "      quickchartButtonEl.classList.add('colab-df-quickchart-complete');\n",
              "    }\n",
              "    (() => {\n",
              "      let quickchartButtonEl =\n",
              "        document.querySelector('#df-746bd8b9-b074-4c73-9d2f-bb5adcbdfdd8 button');\n",
              "      quickchartButtonEl.style.display =\n",
              "        google.colab.kernel.accessAllowed ? 'block' : 'none';\n",
              "    })();\n",
              "  </script>\n",
              "</div>\n",
              "\n",
              "    </div>\n",
              "  </div>\n"
            ]
          },
          "metadata": {},
          "execution_count": 9
        }
      ]
    },
    {
      "cell_type": "code",
      "source": [
        "train_df.info(), test_df.info()"
      ],
      "metadata": {
        "execution": {
          "iopub.status.busy": "2024-01-17T14:25:25.741876Z",
          "iopub.execute_input": "2024-01-17T14:25:25.742224Z",
          "iopub.status.idle": "2024-01-17T14:25:25.785083Z",
          "shell.execute_reply.started": "2024-01-17T14:25:25.742184Z",
          "shell.execute_reply": "2024-01-17T14:25:25.784251Z"
        },
        "trusted": true,
        "colab": {
          "base_uri": "https://localhost:8080/"
        },
        "id": "aTLJDbjw0nWq",
        "outputId": "4146933a-b207-4f22-89ad-098b1e504481"
      },
      "execution_count": 10,
      "outputs": [
        {
          "output_type": "stream",
          "name": "stdout",
          "text": [
            "<class 'pandas.core.frame.DataFrame'>\n",
            "RangeIndex: 30373 entries, 0 to 30372\n",
            "Data columns (total 3 columns):\n",
            " #   Column   Non-Null Count  Dtype  \n",
            "---  ------   --------------  -----  \n",
            " 0   context  30373 non-null  object \n",
            " 1   domain   30373 non-null  object \n",
            " 2   kfold    30373 non-null  float64\n",
            "dtypes: float64(1), object(2)\n",
            "memory usage: 712.0+ KB\n",
            "<class 'pandas.core.frame.DataFrame'>\n",
            "Int64Index: 7594 entries, 19775 to 30643\n",
            "Data columns (total 2 columns):\n",
            " #   Column   Non-Null Count  Dtype \n",
            "---  ------   --------------  ----- \n",
            " 0   context  7594 non-null   object\n",
            " 1   domain   7594 non-null   object\n",
            "dtypes: object(2)\n",
            "memory usage: 178.0+ KB\n"
          ]
        },
        {
          "output_type": "execute_result",
          "data": {
            "text/plain": [
              "(None, None)"
            ]
          },
          "metadata": {},
          "execution_count": 10
        }
      ]
    },
    {
      "cell_type": "markdown",
      "source": [
        "**=> No Missing Values**"
      ],
      "metadata": {
        "id": "DUYO8WL60nWq"
      }
    },
    {
      "cell_type": "code",
      "source": [
        "sns.countplot(x='domain', data=train_df)"
      ],
      "metadata": {
        "execution": {
          "iopub.status.busy": "2024-01-17T14:25:31.254238Z",
          "iopub.execute_input": "2024-01-17T14:25:31.254926Z",
          "iopub.status.idle": "2024-01-17T14:25:31.583045Z",
          "shell.execute_reply.started": "2024-01-17T14:25:31.254886Z",
          "shell.execute_reply": "2024-01-17T14:25:31.582288Z"
        },
        "trusted": true,
        "colab": {
          "base_uri": "https://localhost:8080/",
          "height": 466
        },
        "id": "PxqRRFvQ0nWq",
        "outputId": "206ee062-aef5-4efa-ab89-0a4e70b2c217"
      },
      "execution_count": 11,
      "outputs": [
        {
          "output_type": "execute_result",
          "data": {
            "text/plain": [
              "<Axes: xlabel='domain', ylabel='count'>"
            ]
          },
          "metadata": {},
          "execution_count": 11
        },
        {
          "output_type": "display_data",
          "data": {
            "text/plain": [
              "<Figure size 640x480 with 1 Axes>"
            ],
            "image/png": "[encoded data removed]"
          },
          "metadata": {}
        }
      ]
    },
    {
      "cell_type": "code",
      "source": [
        "train_df.domain.unique()"
      ],
      "metadata": {
        "colab": {
          "base_uri": "https://localhost:8080/"
        },
        "id": "iE68cXLe2Ret",
        "outputId": "669cb3c2-3e5b-416d-a094-3198859e1540"
      },
      "execution_count": 12,
      "outputs": [
        {
          "output_type": "execute_result",
          "data": {
            "text/plain": [
              "array(['giao-duc', 'the-gioi', 'thoi-su', 'du-lich', 'suc-khoe',\n",
              "       'khoa-hoc'], dtype=object)"
            ]
          },
          "metadata": {},
          "execution_count": 12
        }
      ]
    },
    {
      "cell_type": "code",
      "source": [
        "tokenizer = AutoTokenizer.from_pretrained(\"vinai/phobert-base\", use_fast=False)"
      ],
      "metadata": {
        "execution": {
          "iopub.status.busy": "2024-01-17T14:25:38.889829Z",
          "iopub.execute_input": "2024-01-17T14:25:38.890462Z",
          "iopub.status.idle": "2024-01-17T14:25:41.403124Z",
          "shell.execute_reply.started": "2024-01-17T14:25:38.890424Z",
          "shell.execute_reply": "2024-01-17T14:25:41.402263Z"
        },
        "trusted": true,
        "id": "8qbJ5sQf0nWq",
        "colab": {
          "base_uri": "https://localhost:8080/",
          "height": 145,
          "referenced_widgets": [
            "e118ce7ac9b64a388db872ab3778f035",
            "4c0979cc4ae443b28296814cacc7815c",
            "3bf795c0ccdb4ba7b30d7548cb716c46",
            "97127349512a472c8149de35ae7fe9fc",
            "cb4900cc4fbc426fb7e1d081da46be59",
            "2bcfd6d7c9cc40a0867802329907db45",
            "fe6328c40cd54ad592b2fc3b24077d4a",
            "fb9ce989e79b48fa90c244e61fecfb25",
            "02bdf622efaf4cbbaedb5535d0ce7646",
            "51b2593961fb49b2bdccaa04e1259a28",
            "c196c88adf984d57a6c0d150f030e5c5",
            "084040b1e8c34c50b84fba4be78e2a42",
            "844236935b414b5e89462fdbc8e810d3",
            "0d8927c223be4681a92f107709b0441a",
            "d8aa2aa5fe7443a1b598a6605a7b67af",
            "fd7f8cef978e4ac5ae586170de38b1aa",
            "6893a30e39a8452dab498fb90b9aac21",
            "1f707b44b4c64f08badf5680c1e22379",
            "54f74257bade40bbbe6dd3cddc320aaf",
            "d8bc84e91759478c968b09a27c558595",
            "bf600b00e844477ba6973bbf246f3713",
            "e0e064e713244454bc2363df9c25deeb",
            "6a759608c013443d871fbd9cc990485b",
            "f7846bd725814dbe89cec22f8b7399f9",
            "6f73f9ac660b46d9aa671e69859fc5bc",
            "a8f9ad92a8b64fa4976aab3ee0bb7584",
            "667e917ef9704512883d434878f84efc",
            "25dbe90182e84345a1a04c9caa2f291e",
            "8c89df53ca58432eab3ab8ccbd9043e9",
            "fb1adbb5a23948aca21c70be072b0f24",
            "0d758b82853c4fa780f3f6a1da5f712c",
            "3bed00da246843b3bce0da6a46c6c366",
            "c1160982b7944fa5a3f6ec1d109e19ee",
            "e6bf431c2c7a429690a8b4c2e0af1bae",
            "1f8cba13cbdc4c9db8373c74d7ac23a3",
            "954d8c9fffbd478f8bde94acfd4eef67",
            "b132a7f3c56943458f12f57780d5e497",
            "d234210b70764266939711627a7eb34b",
            "14197b344e41404094de7858a5318abb",
            "381d49168b954f72b6ea4475bec277ce",
            "d8b18e90f46540648a8d1a7bc14ca482",
            "8b2fd78a174a4eefac5cf81471625cbf",
            "e133d66de92945e39e3b5f680956b0a7",
            "7ddad30a3a5645a2b85e932509da8e93"
          ]
        },
        "outputId": "d0ce738f-afe1-42b3-f8f6-1260a835c510"
      },
      "execution_count": 13,
      "outputs": [
        {
          "output_type": "display_data",
          "data": {
            "text/plain": [
              "config.json:   0%|          | 0.00/557 [00:00<?, ?B/s]"
            ],
            "application/vnd.jupyter.widget-view+json": {
              "version_major": 2,
              "version_minor": 0,
              "model_id": "e118ce7ac9b64a388db872ab3778f035"
            }
          },
          "metadata": {}
        },
        {
          "output_type": "display_data",
          "data": {
            "text/plain": [
              "vocab.txt:   0%|          | 0.00/895k [00:00<?, ?B/s]"
            ],
            "application/vnd.jupyter.widget-view+json": {
              "version_major": 2,
              "version_minor": 0,
              "model_id": "084040b1e8c34c50b84fba4be78e2a42"
            }
          },
          "metadata": {}
        },
        {
          "output_type": "display_data",
          "data": {
            "text/plain": [
              "bpe.codes:   0%|          | 0.00/1.14M [00:00<?, ?B/s]"
            ],
            "application/vnd.jupyter.widget-view+json": {
              "version_major": 2,
              "version_minor": 0,
              "model_id": "6a759608c013443d871fbd9cc990485b"
            }
          },
          "metadata": {}
        },
        {
          "output_type": "display_data",
          "data": {
            "text/plain": [
              "tokenizer.json:   0%|          | 0.00/3.13M [00:00<?, ?B/s]"
            ],
            "application/vnd.jupyter.widget-view+json": {
              "version_major": 2,
              "version_minor": 0,
              "model_id": "e6bf431c2c7a429690a8b4c2e0af1bae"
            }
          },
          "metadata": {}
        }
      ]
    },
    {
      "cell_type": "code",
      "source": [
        "class SentimentDataset(Dataset):\n",
        "    def __init__(self, df, tokenizer, max_len=120):\n",
        "        self.df = df\n",
        "        self.max_len = max_len\n",
        "        self.tokenizer = tokenizer\n",
        "\n",
        "    def __len__(self):\n",
        "        return len(self.df)\n",
        "\n",
        "    def __getitem__(self, index):\n",
        "        row = self.df.iloc[index]\n",
        "        text, label = self.get_input_data(row)\n",
        "\n",
        "        encoding = self.tokenizer.encode_plus(\n",
        "            text,\n",
        "            truncation=True,\n",
        "            add_special_tokens=True,\n",
        "            max_length=self.max_len,\n",
        "            padding='max_length',\n",
        "            return_attention_mask=True,\n",
        "            return_token_type_ids=False,\n",
        "            return_tensors='pt',\n",
        "        )\n",
        "\n",
        "        return {\n",
        "            'text': text,\n",
        "            'input_ids': encoding['input_ids'].flatten(),\n",
        "            'attention_masks': encoding['attention_mask'].flatten(),\n",
        "            'targets': torch.tensor(label, dtype=torch.long),\n",
        "        }\n",
        "\n",
        "\n",
        "    def labelencoder(self,text):\n",
        "        if text=='giao-duc':\n",
        "            return 0\n",
        "        elif text=='the-gioi':\n",
        "            return 1\n",
        "        elif text=='thoi-su':\n",
        "            return 2\n",
        "        elif text=='du-lich':\n",
        "            return 3\n",
        "        elif text=='suc-khoe':\n",
        "            return 4\n",
        "        elif text=='khoa-hoc':\n",
        "            return 5\n",
        "\n",
        "    def get_input_data(self, row):\n",
        "        # Preprocessing: {remove icon, special character, lower}\n",
        "        text = row['context']\n",
        "        text = ' '.join(simple_preprocess(text))\n",
        "        label = self.labelencoder(row['domain'])\n",
        "\n",
        "        return text, label"
      ],
      "metadata": {
        "execution": {
          "iopub.status.busy": "2024-01-17T14:25:41.404666Z",
          "iopub.execute_input": "2024-01-17T14:25:41.404878Z",
          "iopub.status.idle": "2024-01-17T14:25:41.420355Z",
          "shell.execute_reply.started": "2024-01-17T14:25:41.404852Z",
          "shell.execute_reply": "2024-01-17T14:25:41.419569Z"
        },
        "trusted": true,
        "id": "V61U59de0nWr"
      },
      "execution_count": 14,
      "outputs": []
    },
    {
      "cell_type": "code",
      "source": [
        "class SentimentClassifier(nn.Module):\n",
        "    def __init__(self, n_classes):\n",
        "        super(SentimentClassifier, self).__init__()\n",
        "        self.bert = AutoModel.from_pretrained(\"vinai/phobert-base\")\n",
        "        self.drop = nn.Dropout(p=0.3)\n",
        "        self.fc = nn.Linear(self.bert.config.hidden_size, n_classes)\n",
        "        nn.init.normal_(self.fc.weight, std=0.02)\n",
        "        nn.init.normal_(self.fc.bias, 0)\n",
        "\n",
        "    def forward(self, input_ids, attention_mask):\n",
        "        last_hidden_state, output = self.bert(\n",
        "            input_ids=input_ids,\n",
        "            attention_mask=attention_mask,\n",
        "            return_dict=False # Dropout will errors if without this\n",
        "        )\n",
        "\n",
        "        x = self.drop(output)\n",
        "        x = self.fc(x)\n",
        "        return x"
      ],
      "metadata": {
        "execution": {
          "iopub.status.busy": "2022-04-07T10:56:10.532443Z",
          "iopub.execute_input": "2022-04-07T10:56:10.533405Z",
          "iopub.status.idle": "2022-04-07T10:56:10.542947Z",
          "shell.execute_reply.started": "2022-04-07T10:56:10.533354Z",
          "shell.execute_reply": "2022-04-07T10:56:10.541901Z"
        },
        "trusted": true,
        "id": "_sdoZDNR0nWr"
      },
      "execution_count": 15,
      "outputs": []
    },
    {
      "cell_type": "code",
      "source": [
        "from tqdm import tqdm\n",
        "def train(model, criterion, optimizer, train_loader):\n",
        "    model.train()\n",
        "    losses = []\n",
        "    correct = 0\n",
        "    progress_bar = tqdm(enumerate(train_loader), total=len(train_loader))\n",
        "\n",
        "    for i, data in progress_bar:\n",
        "        # input_ids = inputs.to(device)\n",
        "        # attention_mask = attention_mask.to(device)\n",
        "        # targets = labels.to(device)\n",
        "        input_ids = data['input_ids'].to(device)\n",
        "        attention_mask = data['attention_masks'].to(device)\n",
        "        targets = data['targets'].to(device)\n",
        "\n",
        "        optimizer.zero_grad()\n",
        "        outputs = model(\n",
        "            input_ids=input_ids,\n",
        "            attention_mask=attention_mask\n",
        "        )\n",
        "\n",
        "        loss = criterion(outputs, targets)\n",
        "        _, pred = torch.max(outputs, dim=1)\n",
        "\n",
        "        correct += torch.sum(pred == targets)\n",
        "        losses.append(loss.item())\n",
        "        loss.backward()\n",
        "        nn.utils.clip_grad_norm_(model.parameters(), max_norm=1.0)\n",
        "        optimizer.step()\n",
        "        lr_scheduler.step()\n",
        "\n",
        "    print(f'Train Accuracy: {correct.double()/len(train_loader.dataset)} Loss: {np.mean(losses)}')\n",
        "\n",
        "def eval(test_data = False):\n",
        "    model.eval()\n",
        "    losses = []\n",
        "    correct = 0\n",
        "    with torch.no_grad():\n",
        "        data_loader = test_loader if test_data else valid_loader\n",
        "        progress_bar = tqdm(enumerate(data_loader), total=len(data_loader))\n",
        "\n",
        "        for i, data in progress_bar:\n",
        "            # input_ids = inputs.to(device)\n",
        "            # attention_mask = attention_mask.to(device)\n",
        "            # targets = labels.to(device)\n",
        "            input_ids = data['input_ids'].to(device)\n",
        "            attention_mask = data['attention_masks'].to(device)\n",
        "            targets = data['targets'].to(device)\n",
        "\n",
        "            outputs = model(\n",
        "                input_ids=input_ids,\n",
        "                attention_mask=attention_mask\n",
        "            )\n",
        "\n",
        "            _, pred = torch.max(outputs, dim=1)\n",
        "\n",
        "            loss = criterion(outputs, targets)\n",
        "            correct += torch.sum(pred == targets)\n",
        "            losses.append(loss.item())\n",
        "\n",
        "    if test_data:\n",
        "        print(f'Test Accuracy: {correct.double()/len(test_loader.dataset)} Loss: {np.mean(losses)}')\n",
        "        return correct.double()/len(test_loader.dataset)\n",
        "    else:\n",
        "        print(f'Valid Accuracy: {correct.double()/len(valid_loader.dataset)} Loss: {np.mean(losses)}')\n",
        "        return correct.double()/len(valid_loader.dataset)\n"
      ],
      "metadata": {
        "execution": {
          "iopub.status.busy": "2022-04-07T10:56:10.546649Z",
          "iopub.execute_input": "2022-04-07T10:56:10.547034Z",
          "iopub.status.idle": "2022-04-07T10:56:10.564722Z",
          "shell.execute_reply.started": "2022-04-07T10:56:10.547003Z",
          "shell.execute_reply": "2022-04-07T10:56:10.563828Z"
        },
        "trusted": true,
        "id": "BcXO6-wl0nWr"
      },
      "execution_count": 16,
      "outputs": []
    },
    {
      "cell_type": "code",
      "source": [
        "def prepare_loaders(df, fold):\n",
        "    df_train = df[df.kfold != fold].reset_index(drop=True)\n",
        "    df_valid = df[df.kfold == fold].reset_index(drop=True)\n",
        "\n",
        "    train_dataset = SentimentDataset(df_train, tokenizer, max_len=128)\n",
        "    valid_dataset = SentimentDataset(df_valid, tokenizer, max_len=128)\n",
        "\n",
        "    train_loader = DataLoader(train_dataset, batch_size=32, shuffle=True, num_workers=2)\n",
        "    valid_loader = DataLoader(valid_dataset, batch_size=32, shuffle=True, num_workers=2)\n",
        "\n",
        "    return train_loader, valid_loader"
      ],
      "metadata": {
        "execution": {
          "iopub.status.busy": "2022-04-07T10:56:10.566699Z",
          "iopub.execute_input": "2022-04-07T10:56:10.567328Z",
          "iopub.status.idle": "2022-04-07T10:56:10.576553Z",
          "shell.execute_reply.started": "2022-04-07T10:56:10.567263Z",
          "shell.execute_reply": "2022-04-07T10:56:10.575621Z"
        },
        "trusted": true,
        "id": "ogghIZCN0nWr"
      },
      "execution_count": 17,
      "outputs": []
    },
    {
      "cell_type": "code",
      "source": [
        "for fold in range(skf.n_splits):\n",
        "    print(f'-----------Fold: {fold+1} ------------------')\n",
        "    train_loader, valid_loader = prepare_loaders(train_df, fold=fold)\n",
        "    model = SentimentClassifier(n_classes=6).to(device)\n",
        "    criterion = nn.CrossEntropyLoss()\n",
        "    # Recommendation by BERT: lr: 5e-5, 2e-5, 3e-5\n",
        "    # Batchsize: 16, 32\n",
        "    optimizer = AdamW(model.parameters(), lr=2e-5)\n",
        "\n",
        "    lr_scheduler = get_linear_schedule_with_warmup(\n",
        "                optimizer,\n",
        "                num_warmup_steps=0,\n",
        "                num_training_steps=len(train_loader)*EPOCHS\n",
        "            )\n",
        "    best_acc = 0\n",
        "    for epoch in range(EPOCHS):\n",
        "        print(f'Epoch {epoch+1}/{EPOCHS}')\n",
        "        print('-'*30)\n",
        "\n",
        "        train(model, criterion, optimizer, train_loader)\n",
        "        val_acc = eval()\n",
        "\n",
        "        if val_acc > best_acc:\n",
        "            torch.save(model.state_dict(), f'/content/UIT-ISE Dataset/phobert_fold{fold+1}.pth')\n",
        "            best_acc = val_acc"
      ],
      "metadata": {
        "execution": {
          "iopub.status.busy": "2022-04-07T10:56:10.579372Z",
          "iopub.execute_input": "2022-04-07T10:56:10.579727Z",
          "iopub.status.idle": "2022-04-07T11:00:18.209396Z",
          "shell.execute_reply.started": "2022-04-07T10:56:10.579687Z",
          "shell.execute_reply": "2022-04-07T11:00:18.208343Z"
        },
        "trusted": true,
        "id": "Dmq2egTW0nWr",
        "colab": {
          "base_uri": "https://localhost:8080/",
          "height": 1000,
          "referenced_widgets": [
            "a89e53586f97453fb8f22a5e6bebaeca",
            "5574f1affb51445894c0c8339764e646",
            "4e81e19c1df54b5c8b1f7045dd3a4c85",
            "6a1d0a59f473420aac0949875b3a1ab4",
            "083ec32f04d94d17bb43a0c2a8bc7971",
            "d081be658b9e4dea99a5b6486713cdfa",
            "d896f2da40c447d9b19f2c8887809411",
            "db9e582b53a44e6db141c969f157264b",
            "d937277d9a564cb1939bd68596dfd5b8",
            "ac085fa54dcf492e8bb7b7ea16f4be01",
            "39b4b0a061c0494bbbd23ba3e362b6eb"
          ]
        },
        "outputId": "343b34e9-c70c-48ad-f14e-621cfaefba07"
      },
      "execution_count": 18,
      "outputs": [
        {
          "output_type": "stream",
          "name": "stdout",
          "text": [
            "-----------Fold: 1 ------------------\n"
          ]
        },
        {
          "output_type": "display_data",
          "data": {
            "text/plain": [
              "pytorch_model.bin:   0%|          | 0.00/543M [00:00<?, ?B/s]"
            ],
            "application/vnd.jupyter.widget-view+json": {
              "version_major": 2,
              "version_minor": 0,
              "model_id": "a89e53586f97453fb8f22a5e6bebaeca"
            }
          },
          "metadata": {}
        },
        {
          "output_type": "stream",
          "name": "stdout",
          "text": [
            "Epoch 1/3\n",
            "------------------------------\n"
          ]
        },
        {
          "output_type": "stream",
          "name": "stderr",
          "text": [
            "100%|██████████| 760/760 [08:31<00:00,  1.49it/s]"
          ]
        },
        {
          "output_type": "stream",
          "name": "stdout",
          "text": [
            "Train Accuracy: 0.9018026174993826 Loss: 0.3669160545472742\n"
          ]
        },
        {
          "output_type": "stream",
          "name": "stderr",
          "text": [
            "\n",
            "100%|██████████| 190/190 [00:42<00:00,  4.45it/s]\n"
          ]
        },
        {
          "output_type": "stream",
          "name": "stdout",
          "text": [
            "Valid Accuracy: 0.9835390946502058 Loss: 0.07291699686136685\n",
            "Epoch 2/3\n",
            "------------------------------\n"
          ]
        },
        {
          "output_type": "stream",
          "name": "stderr",
          "text": [
            "100%|██████████| 760/760 [08:36<00:00,  1.47it/s]"
          ]
        },
        {
          "output_type": "stream",
          "name": "stdout",
          "text": [
            "Train Accuracy: 0.9898345542843032 Loss: 0.046869585268493545\n"
          ]
        },
        {
          "output_type": "stream",
          "name": "stderr",
          "text": [
            "\n",
            "100%|██████████| 190/190 [00:42<00:00,  4.42it/s]\n"
          ]
        },
        {
          "output_type": "stream",
          "name": "stdout",
          "text": [
            "Valid Accuracy: 0.9965432098765433 Loss: 0.02174126555358893\n",
            "Epoch 3/3\n",
            "------------------------------\n"
          ]
        },
        {
          "output_type": "stream",
          "name": "stderr",
          "text": [
            "100%|██████████| 760/760 [08:36<00:00,  1.47it/s]"
          ]
        },
        {
          "output_type": "stream",
          "name": "stdout",
          "text": [
            "Train Accuracy: 0.9980656844184707 Loss: 0.011315882977214642\n"
          ]
        },
        {
          "output_type": "stream",
          "name": "stderr",
          "text": [
            "\n",
            "100%|██████████| 190/190 [00:42<00:00,  4.43it/s]\n"
          ]
        },
        {
          "output_type": "stream",
          "name": "stdout",
          "text": [
            "Valid Accuracy: 0.9983539094650207 Loss: 0.00976132905772446\n",
            "-----------Fold: 2 ------------------\n",
            "Epoch 1/3\n",
            "------------------------------\n"
          ]
        },
        {
          "output_type": "stream",
          "name": "stderr",
          "text": [
            "100%|██████████| 760/760 [08:36<00:00,  1.47it/s]"
          ]
        },
        {
          "output_type": "stream",
          "name": "stdout",
          "text": [
            "Train Accuracy: 0.8993332784591324 Loss: 0.3766310365821578\n"
          ]
        },
        {
          "output_type": "stream",
          "name": "stderr",
          "text": [
            "\n",
            "100%|██████████| 190/190 [00:42<00:00,  4.46it/s]\n"
          ]
        },
        {
          "output_type": "stream",
          "name": "stdout",
          "text": [
            "Valid Accuracy: 0.97761316872428 Loss: 0.0915867026209047\n",
            "Epoch 2/3\n",
            "------------------------------\n"
          ]
        },
        {
          "output_type": "stream",
          "name": "stderr",
          "text": [
            "100%|██████████| 760/760 [08:35<00:00,  1.47it/s]"
          ]
        },
        {
          "output_type": "stream",
          "name": "stdout",
          "text": [
            "Train Accuracy: 0.9900403325376573 Loss: 0.04936612010290111\n"
          ]
        },
        {
          "output_type": "stream",
          "name": "stderr",
          "text": [
            "\n",
            "100%|██████████| 190/190 [00:42<00:00,  4.42it/s]\n"
          ]
        },
        {
          "output_type": "stream",
          "name": "stdout",
          "text": [
            "Valid Accuracy: 0.9935802469135804 Loss: 0.031812939965656324\n",
            "Epoch 3/3\n",
            "------------------------------\n"
          ]
        },
        {
          "output_type": "stream",
          "name": "stderr",
          "text": [
            "100%|██████████| 760/760 [08:35<00:00,  1.47it/s]"
          ]
        },
        {
          "output_type": "stream",
          "name": "stdout",
          "text": [
            "Train Accuracy: 0.9980656844184707 Loss: 0.010680334452129165\n"
          ]
        },
        {
          "output_type": "stream",
          "name": "stderr",
          "text": [
            "\n",
            "100%|██████████| 190/190 [00:43<00:00,  4.40it/s]\n"
          ]
        },
        {
          "output_type": "stream",
          "name": "stdout",
          "text": [
            "Valid Accuracy: 0.9968724279835391 Loss: 0.024699951585774357\n",
            "-----------Fold: 3 ------------------\n",
            "Epoch 1/3\n",
            "------------------------------\n"
          ]
        },
        {
          "output_type": "stream",
          "name": "stderr",
          "text": [
            "100%|██████████| 760/760 [08:36<00:00,  1.47it/s]"
          ]
        },
        {
          "output_type": "stream",
          "name": "stdout",
          "text": [
            "Train Accuracy: 0.8963700716108322 Loss: 0.37993952364562766\n"
          ]
        },
        {
          "output_type": "stream",
          "name": "stderr",
          "text": [
            "\n",
            "100%|██████████| 190/190 [00:42<00:00,  4.45it/s]\n"
          ]
        },
        {
          "output_type": "stream",
          "name": "stdout",
          "text": [
            "Valid Accuracy: 0.9711934156378602 Loss: 0.11674647541520627\n",
            "Epoch 2/3\n",
            "------------------------------\n"
          ]
        },
        {
          "output_type": "stream",
          "name": "stderr",
          "text": [
            "100%|██████████| 760/760 [08:35<00:00,  1.47it/s]"
          ]
        },
        {
          "output_type": "stream",
          "name": "stdout",
          "text": [
            "Train Accuracy: 0.9883529508601531 Loss: 0.05781606643454564\n"
          ]
        },
        {
          "output_type": "stream",
          "name": "stderr",
          "text": [
            "\n",
            "100%|██████████| 190/190 [00:42<00:00,  4.46it/s]\n"
          ]
        },
        {
          "output_type": "stream",
          "name": "stdout",
          "text": [
            "Valid Accuracy: 0.9919341563786009 Loss: 0.04418521182930195\n",
            "Epoch 3/3\n",
            "------------------------------\n"
          ]
        },
        {
          "output_type": "stream",
          "name": "stderr",
          "text": [
            "100%|██████████| 760/760 [08:36<00:00,  1.47it/s]"
          ]
        },
        {
          "output_type": "stream",
          "name": "stdout",
          "text": [
            "Train Accuracy: 0.9962548357889538 Loss: 0.019750077270069406\n"
          ]
        },
        {
          "output_type": "stream",
          "name": "stderr",
          "text": [
            "\n",
            "100%|██████████| 190/190 [00:42<00:00,  4.46it/s]\n"
          ]
        },
        {
          "output_type": "stream",
          "name": "stdout",
          "text": [
            "Valid Accuracy: 0.9952263374485597 Loss: 0.029348350648988823\n",
            "-----------Fold: 4 ------------------\n",
            "Epoch 1/3\n",
            "------------------------------\n"
          ]
        },
        {
          "output_type": "stream",
          "name": "stderr",
          "text": [
            "100%|██████████| 760/760 [08:35<00:00,  1.47it/s]"
          ]
        },
        {
          "output_type": "stream",
          "name": "stdout",
          "text": [
            "Train Accuracy: 0.9023828141075765 Loss: 0.3658483515861199\n"
          ]
        },
        {
          "output_type": "stream",
          "name": "stderr",
          "text": [
            "\n",
            "100%|██████████| 190/190 [00:42<00:00,  4.44it/s]\n"
          ]
        },
        {
          "output_type": "stream",
          "name": "stdout",
          "text": [
            "Valid Accuracy: 0.9827132038195587 Loss: 0.08356371207260772\n",
            "Epoch 2/3\n",
            "------------------------------\n"
          ]
        },
        {
          "output_type": "stream",
          "name": "stderr",
          "text": [
            "100%|██████████| 760/760 [08:36<00:00,  1.47it/s]"
          ]
        },
        {
          "output_type": "stream",
          "name": "stdout",
          "text": [
            "Train Accuracy: 0.9887238157948888 Loss: 0.05499158105782331\n"
          ]
        },
        {
          "output_type": "stream",
          "name": "stderr",
          "text": [
            "\n",
            "100%|██████████| 190/190 [00:43<00:00,  4.41it/s]\n"
          ]
        },
        {
          "output_type": "stream",
          "name": "stdout",
          "text": [
            "Valid Accuracy: 0.995554823839315 Loss: 0.020967199551676842\n",
            "Epoch 3/3\n",
            "------------------------------\n"
          ]
        },
        {
          "output_type": "stream",
          "name": "stderr",
          "text": [
            "100%|██████████| 760/760 [08:36<00:00,  1.47it/s]"
          ]
        },
        {
          "output_type": "stream",
          "name": "stdout",
          "text": [
            "Train Accuracy: 0.9979011481953991 Loss: 0.012555031002327603\n"
          ]
        },
        {
          "output_type": "stream",
          "name": "stderr",
          "text": [
            "\n",
            "100%|██████████| 190/190 [00:42<00:00,  4.46it/s]\n"
          ]
        },
        {
          "output_type": "stream",
          "name": "stdout",
          "text": [
            "Valid Accuracy: 0.9976950938426078 Loss: 0.010659640498067204\n",
            "-----------Fold: 5 ------------------\n",
            "Epoch 1/3\n",
            "------------------------------\n"
          ]
        },
        {
          "output_type": "stream",
          "name": "stderr",
          "text": [
            "100%|██████████| 760/760 [08:35<00:00,  1.47it/s]"
          ]
        },
        {
          "output_type": "stream",
          "name": "stdout",
          "text": [
            "Train Accuracy: 0.8971562615745504 Loss: 0.3953865801106746\n"
          ]
        },
        {
          "output_type": "stream",
          "name": "stderr",
          "text": [
            "\n",
            "100%|██████████| 190/190 [00:42<00:00,  4.46it/s]\n"
          ]
        },
        {
          "output_type": "stream",
          "name": "stdout",
          "text": [
            "Valid Accuracy: 0.9753045768850839 Loss: 0.10946426716093954\n",
            "Epoch 2/3\n",
            "------------------------------\n"
          ]
        },
        {
          "output_type": "stream",
          "name": "stderr",
          "text": [
            "100%|██████████| 760/760 [08:35<00:00,  1.47it/s]"
          ]
        },
        {
          "output_type": "stream",
          "name": "stdout",
          "text": [
            "Train Accuracy: 0.987448043129347 Loss: 0.06059841748884585\n"
          ]
        },
        {
          "output_type": "stream",
          "name": "stderr",
          "text": [
            "\n",
            "100%|██████████| 190/190 [00:43<00:00,  4.32it/s]\n"
          ]
        },
        {
          "output_type": "stream",
          "name": "stdout",
          "text": [
            "Valid Accuracy: 0.9948962792229172 Loss: 0.03472195911760393\n",
            "Epoch 3/3\n",
            "------------------------------\n"
          ]
        },
        {
          "output_type": "stream",
          "name": "stderr",
          "text": [
            "100%|██████████| 760/760 [08:35<00:00,  1.47it/s]"
          ]
        },
        {
          "output_type": "stream",
          "name": "stdout",
          "text": [
            "Train Accuracy: 0.9975307625828224 Loss: 0.014057435330744881\n"
          ]
        },
        {
          "output_type": "stream",
          "name": "stderr",
          "text": [
            "\n",
            "100%|██████████| 190/190 [00:42<00:00,  4.46it/s]\n"
          ]
        },
        {
          "output_type": "stream",
          "name": "stdout",
          "text": [
            "Valid Accuracy: 0.99703654922621 Loss: 0.020693082433488025\n"
          ]
        }
      ]
    },
    {
      "cell_type": "code",
      "source": [
        "def test(data_loader):\n",
        "    models = []\n",
        "    for fold in range(skf.n_splits):\n",
        "        model = SentimentClassifier(n_classes=6)\n",
        "        model.to(device)\n",
        "        model.load_state_dict(torch.load(f'/content/UIT-ISE Dataset/phobert_fold{fold+1}.pth'))\n",
        "        model.eval()\n",
        "        models.append(model)\n",
        "\n",
        "    texts = []\n",
        "    predicts = []\n",
        "    predict_probs = []\n",
        "    real_values = []\n",
        "\n",
        "    for data in data_loader:\n",
        "        text = data['text']\n",
        "        input_ids = data['input_ids'].to(device)\n",
        "        attention_mask = data['attention_masks'].to(device)\n",
        "        targets = data['targets'].to(device)\n",
        "\n",
        "        total_outs = []\n",
        "        for model in models:\n",
        "            with torch.no_grad():\n",
        "                outputs = model(\n",
        "                    input_ids=input_ids,\n",
        "                    attention_mask=attention_mask\n",
        "                )\n",
        "                total_outs.append(outputs)\n",
        "\n",
        "        total_outs = torch.stack(total_outs)\n",
        "        _, pred = torch.max(total_outs.mean(0), dim=1)\n",
        "        texts.extend(text)\n",
        "        predicts.extend(pred)\n",
        "        predict_probs.extend(total_outs.mean(0))\n",
        "        real_values.extend(targets)\n",
        "\n",
        "    predicts = torch.stack(predicts).cpu()\n",
        "    predict_probs = torch.stack(predict_probs).cpu()\n",
        "    real_values = torch.stack(real_values).cpu()\n",
        "    print(classification_report(real_values, predicts))\n",
        "    return real_values, predicts"
      ],
      "metadata": {
        "execution": {
          "iopub.status.busy": "2022-04-07T11:00:18.215157Z",
          "iopub.execute_input": "2022-04-07T11:00:18.21772Z",
          "iopub.status.idle": "2022-04-07T11:00:18.235309Z",
          "shell.execute_reply.started": "2022-04-07T11:00:18.217672Z",
          "shell.execute_reply": "2022-04-07T11:00:18.234473Z"
        },
        "trusted": true,
        "id": "s-5LHKV20nWr"
      },
      "execution_count": 21,
      "outputs": []
    },
    {
      "cell_type": "code",
      "source": [
        "test_dataset = SentimentDataset(test_df, tokenizer, max_len=128)\n",
        "test_loader = DataLoader(test_dataset, batch_size=32, shuffle=True, num_workers=2)\n",
        "real_values, predicts = test(test_loader)"
      ],
      "metadata": {
        "execution": {
          "iopub.status.busy": "2022-04-07T11:00:18.240218Z",
          "iopub.execute_input": "2022-04-07T11:00:18.242449Z",
          "iopub.status.idle": "2022-04-07T11:00:26.446802Z",
          "shell.execute_reply.started": "2022-04-07T11:00:18.242404Z",
          "shell.execute_reply": "2022-04-07T11:00:26.445097Z"
        },
        "trusted": true,
        "id": "HZ_s51fb0nWr",
        "colab": {
          "base_uri": "https://localhost:8080/"
        },
        "outputId": "8f75ccc0-ffc8-4dcd-f201-ea7ea8241dcb"
      },
      "execution_count": 22,
      "outputs": [
        {
          "output_type": "stream",
          "name": "stdout",
          "text": [
            "              precision    recall  f1-score   support\n",
            "\n",
            "           0       1.00      1.00      1.00       979\n",
            "           1       1.00      1.00      1.00      1485\n",
            "           2       1.00      1.00      1.00      1441\n",
            "           3       1.00      1.00      1.00      1164\n",
            "           4       1.00      1.00      1.00      1024\n",
            "           5       1.00      1.00      1.00      1501\n",
            "\n",
            "    accuracy                           1.00      7594\n",
            "   macro avg       1.00      1.00      1.00      7594\n",
            "weighted avg       1.00      1.00      1.00      7594\n",
            "\n"
          ]
        }
      ]
    },
    {
      "cell_type": "code",
      "source": [
        "from sklearn.metrics import classification_report, confusion_matrix\n",
        "import matplotlib.pyplot as plt\n",
        "import seaborn as sns\n",
        "import numpy as np\n",
        "\n",
        "def plot_confusion_matrix(labels, predictions,class_names):\n",
        "    cm = confusion_matrix(labels, predictions, normalize='true')\n",
        "    sns.heatmap(cm, annot=True, fmt=\".2f\", cmap='Blues', xticklabels=class_names, yticklabels=class_names)\n",
        "    plt.ylabel('Actual')\n",
        "    plt.xlabel('Predicted')\n",
        "    plt.title('Confusion Matrix')\n",
        "    plt.show()\n",
        "\n",
        "\n",
        "class_names = ['giao-duc', 'the-gioi', 'thoi-su', 'du-lich', 'suc-khoe','khoa-hoc']\n",
        "plot_confusion_matrix(real_values, predicts,class_names)"
      ],
      "metadata": {
        "execution": {
          "iopub.status.busy": "2022-04-07T11:00:26.448579Z",
          "iopub.execute_input": "2022-04-07T11:00:26.450832Z",
          "iopub.status.idle": "2022-04-07T11:00:26.78242Z",
          "shell.execute_reply.started": "2022-04-07T11:00:26.4508Z",
          "shell.execute_reply": "2022-04-07T11:00:26.781664Z"
        },
        "trusted": true,
        "id": "kUs8K9NR0nWr",
        "colab": {
          "base_uri": "https://localhost:8080/",
          "height": 472
        },
        "outputId": "1f90b105-ae83-43bb-b13c-e3ca35901fce"
      },
      "execution_count": 24,
      "outputs": [
        {
          "output_type": "display_data",
          "data": {
            "text/plain": [
              "<Figure size 640x480 with 2 Axes>"
            ],
            "image/png": "[encoded data removed]"
          },
          "metadata": {}
        }
      ]
    },
    {
      "cell_type": "code",
      "source": [
        "# def check_wrong(real_values, predicts):\n",
        "#     wrong_arr = []\n",
        "#     wrong_label = []\n",
        "#     for i in range(len(predicts)):\n",
        "#         if predicts[i] != real_values[i]:\n",
        "#             wrong_arr.append(i)\n",
        "#             wrong_label.append(predicts[i])\n",
        "#     return wrong_arr, wrong_label\n",
        "\n",
        "# for i in range(15):\n",
        "#     print('-'*50)\n",
        "#     wrong_arr, wrong_label = check_wrong(real_values, predicts)\n",
        "#     print(test_df.iloc[wrong_arr[i]].context)\n",
        "#     print(f'Predicted: ({class_names[wrong_label[i]]}) --vs-- Real label: ({class_names[real_values[wrong_arr[i]]]})')"
      ],
      "metadata": {
        "execution": {
          "iopub.status.busy": "2022-04-07T11:00:26.783944Z",
          "iopub.execute_input": "2022-04-07T11:00:26.7842Z",
          "iopub.status.idle": "2022-04-07T11:00:26.883494Z",
          "shell.execute_reply.started": "2022-04-07T11:00:26.784167Z",
          "shell.execute_reply": "2022-04-07T11:00:26.882731Z"
        },
        "trusted": true,
        "id": "7uvgod5P0nWs"
      },
      "execution_count": 26,
      "outputs": []
    },
    {
      "cell_type": "code",
      "source": [
        "def infer(text, tokenizer, max_len=128):\n",
        "    encoded_review = tokenizer.encode_plus(\n",
        "        text,\n",
        "        max_length=max_len,\n",
        "        truncation=True,\n",
        "        add_special_tokens=True,\n",
        "        padding='max_length',\n",
        "        return_attention_mask=True,\n",
        "        return_token_type_ids=False,\n",
        "        return_tensors='pt',\n",
        "    )\n",
        "\n",
        "    input_ids = encoded_review['input_ids'].to(device)\n",
        "    attention_mask = encoded_review['attention_mask'].to(device)\n",
        "\n",
        "    output = model(input_ids, attention_mask)\n",
        "    _, y_pred = torch.max(output, dim=1)\n",
        "\n",
        "    print(f'Text: {text}')\n",
        "    print(f'Sentiment: {class_names[y_pred]}')"
      ],
      "metadata": {
        "execution": {
          "iopub.status.busy": "2022-04-07T11:00:26.884982Z",
          "iopub.execute_input": "2022-04-07T11:00:26.885228Z",
          "iopub.status.idle": "2022-04-07T11:00:26.892555Z",
          "shell.execute_reply.started": "2022-04-07T11:00:26.885194Z",
          "shell.execute_reply": "2022-04-07T11:00:26.890975Z"
        },
        "trusted": true,
        "id": "MdhByIjo0nWs"
      },
      "execution_count": 28,
      "outputs": []
    }
  ]
}